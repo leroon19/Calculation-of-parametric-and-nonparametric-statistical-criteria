{
  "nbformat": 4,
  "nbformat_minor": 0,
  "metadata": {
    "colab": {
      "provenance": []
    },
    "kernelspec": {
      "name": "python3",
      "display_name": "Python 3"
    },
    "language_info": {
      "name": "python"
    }
  },
  "cells": [
    {
      "cell_type": "markdown",
      "source": [
        "#**Домашнее Задание \"Проверка гипотез\"**"
      ],
      "metadata": {
        "id": "TbKSurPoOef3"
      }
    },
    {
      "cell_type": "markdown",
      "source": [
        "**Общие моменты:**\n",
        "\n",
        "- Обязательно гуглите всю необходимую информацию. Вы можете использовать прочие (которые не упоминались на занятиях) методы и алгоритмы для решения задач, но при условии, что Вы сможете их объяснить. Если Вы нашли какой-то интересный способ решения, то нужно в комментарий добавить ссылку на источник.\n",
        "\n",
        "- Списывать/плагиатить строго запрещено. Можно использовать готовые решения из интернета только в случае, если Вы укажите ссылку на источник. И поясните, почему лучше так, а не каким-то стандартным (рекомендуемым) способом.\n",
        "\n",
        "- Желательно (но не обязательно) указывать комментарии в Вашем решении. Это и Вам поможет понять, что Вы делаете. И также это поможет преверяющему в случае вопросов.\n",
        "\n",
        "- Технологии типа ChatGPT не использовать.\n",
        "\n",
        "- В случае каких-то вопросов или спорных ситуаций (например, после получения результатов дз), обращайтесь к ассистенту/преподавателю. И лучше пишите какие-то комментарии к своему коду, чтобы спорных ситуаций было как можно меньше.\n",
        "\n",
        "- Каждая из задач имеет определенную «стоимость» (указана в скобках около задачи). Максимально допустимая оценка за работу — 10 баллов (+ бонус). Проверяющий имеет право снизить оценку за неэффективную реализацию или неопрятные графики.\n",
        "\n",
        "- Сдавать ДЗ в SmartLMS!\n",
        "\n",
        "**Успехов!**"
      ],
      "metadata": {
        "id": "-HLX5537Quvc"
      }
    },
    {
      "cell_type": "code",
      "source": [
        "import pandas as pd\n",
        "import numpy as np\n",
        "import statsmodels as sm\n",
        "from scipy import stats"
      ],
      "metadata": {
        "id": "an8bNyR3D6AN"
      },
      "execution_count": null,
      "outputs": []
    },
    {
      "cell_type": "code",
      "source": [
        "from google.colab import drive\n",
        "drive.mount('/content/drive')"
      ],
      "metadata": {
        "colab": {
          "base_uri": "https://localhost:8080/"
        },
        "id": "P8VmX6-NEwZN",
        "outputId": "98482b63-cb0d-4d46-c909-174d74b9481c"
      },
      "execution_count": null,
      "outputs": [
        {
          "output_type": "stream",
          "name": "stdout",
          "text": [
            "Mounted at /content/drive\n"
          ]
        }
      ]
    },
    {
      "cell_type": "markdown",
      "source": [
        "# **Параметрические критерии**"
      ],
      "metadata": {
        "id": "U2ZxaptQRZ7-"
      }
    },
    {
      "cell_type": "markdown",
      "source": [
        "# Задание 1: z-test"
      ],
      "metadata": {
        "id": "PXkcZaoFShyQ"
      }
    },
    {
      "cell_type": "markdown",
      "source": [
        "Скачайте датасет Original_data_with_more_rows.csv. Он содержит данные об оценках студентов ряда университетов по 3 видам тестов. Описание данных:\n",
        "\n",
        "- Gender: Gender of the student (male/female)\n",
        "- EthnicGroup: Ethnic group of the student (group A to E)\n",
        "- ParentEduc: Parent(s) education background (from some_highschool to master's degree)\n",
        "- LunchType: School lunch type (standard or free/reduced)\n",
        "- TestPrep: Test preparation course followed (completed or none)\n",
        "- ParentMaritalStatus: Parent(s) marital status (married/single/widowed/divorced)\n",
        "- PracticeSport: How often the student parctice sport (never/sometimes/regularly))\n",
        "- IsFirstChild: If the child is first child in the family or not (yes/no)\n",
        "- NrSiblings: Number of siblings the student has (0 to 7)\n",
        "- TransportMeans: Means of transport to school (schoolbus/private)\n",
        "- WklyStudyHours: Weekly self-study hours(less that 5hrs; between 5 and 10hrs; more than 10hrs)\n",
        "- MathScore: math test score(0-100)\n",
        "- ReadingScore: reading test score(0-100)\n",
        "- WritingScore: writing test score(0-100)\n"
      ],
      "metadata": {
        "id": "7EX7SkyBE1xN"
      }
    },
    {
      "cell_type": "code",
      "source": [
        "ord = pd.read_csv('/content/drive/MyDrive/Дата сосайенс/Original_data_with_more_rows.csv')\n",
        "ord.head()"
      ],
      "metadata": {
        "id": "-J8HUGpAEzdh",
        "colab": {
          "base_uri": "https://localhost:8080/",
          "height": 204
        },
        "outputId": "6e1abd13-e395-42e6-9448-c46fae8f748b"
      },
      "execution_count": null,
      "outputs": [
        {
          "output_type": "execute_result",
          "data": {
            "text/plain": [
              "   Unnamed: 0  Gender EthnicGroup          ParentEduc     LunchType  \\\n",
              "0           0  female     group B   bachelor's degree      standard   \n",
              "1           1  female     group C        some college      standard   \n",
              "2           2  female     group B     master's degree      standard   \n",
              "3           3    male     group A  associate's degree  free/reduced   \n",
              "4           4    male     group C        some college      standard   \n",
              "\n",
              "    TestPrep  MathScore  ReadingScore  WritingScore  \n",
              "0       none         72            72            74  \n",
              "1  completed         69            90            88  \n",
              "2       none         90            95            93  \n",
              "3       none         47            57            44  \n",
              "4       none         76            78            75  "
            ],
            "text/html": [
              "\n",
              "  <div id=\"df-5d6a4c17-430b-4087-86bb-979977019521\">\n",
              "    <div class=\"colab-df-container\">\n",
              "      <div>\n",
              "<style scoped>\n",
              "    .dataframe tbody tr th:only-of-type {\n",
              "        vertical-align: middle;\n",
              "    }\n",
              "\n",
              "    .dataframe tbody tr th {\n",
              "        vertical-align: top;\n",
              "    }\n",
              "\n",
              "    .dataframe thead th {\n",
              "        text-align: right;\n",
              "    }\n",
              "</style>\n",
              "<table border=\"1\" class=\"dataframe\">\n",
              "  <thead>\n",
              "    <tr style=\"text-align: right;\">\n",
              "      <th></th>\n",
              "      <th>Unnamed: 0</th>\n",
              "      <th>Gender</th>\n",
              "      <th>EthnicGroup</th>\n",
              "      <th>ParentEduc</th>\n",
              "      <th>LunchType</th>\n",
              "      <th>TestPrep</th>\n",
              "      <th>MathScore</th>\n",
              "      <th>ReadingScore</th>\n",
              "      <th>WritingScore</th>\n",
              "    </tr>\n",
              "  </thead>\n",
              "  <tbody>\n",
              "    <tr>\n",
              "      <th>0</th>\n",
              "      <td>0</td>\n",
              "      <td>female</td>\n",
              "      <td>group B</td>\n",
              "      <td>bachelor's degree</td>\n",
              "      <td>standard</td>\n",
              "      <td>none</td>\n",
              "      <td>72</td>\n",
              "      <td>72</td>\n",
              "      <td>74</td>\n",
              "    </tr>\n",
              "    <tr>\n",
              "      <th>1</th>\n",
              "      <td>1</td>\n",
              "      <td>female</td>\n",
              "      <td>group C</td>\n",
              "      <td>some college</td>\n",
              "      <td>standard</td>\n",
              "      <td>completed</td>\n",
              "      <td>69</td>\n",
              "      <td>90</td>\n",
              "      <td>88</td>\n",
              "    </tr>\n",
              "    <tr>\n",
              "      <th>2</th>\n",
              "      <td>2</td>\n",
              "      <td>female</td>\n",
              "      <td>group B</td>\n",
              "      <td>master's degree</td>\n",
              "      <td>standard</td>\n",
              "      <td>none</td>\n",
              "      <td>90</td>\n",
              "      <td>95</td>\n",
              "      <td>93</td>\n",
              "    </tr>\n",
              "    <tr>\n",
              "      <th>3</th>\n",
              "      <td>3</td>\n",
              "      <td>male</td>\n",
              "      <td>group A</td>\n",
              "      <td>associate's degree</td>\n",
              "      <td>free/reduced</td>\n",
              "      <td>none</td>\n",
              "      <td>47</td>\n",
              "      <td>57</td>\n",
              "      <td>44</td>\n",
              "    </tr>\n",
              "    <tr>\n",
              "      <th>4</th>\n",
              "      <td>4</td>\n",
              "      <td>male</td>\n",
              "      <td>group C</td>\n",
              "      <td>some college</td>\n",
              "      <td>standard</td>\n",
              "      <td>none</td>\n",
              "      <td>76</td>\n",
              "      <td>78</td>\n",
              "      <td>75</td>\n",
              "    </tr>\n",
              "  </tbody>\n",
              "</table>\n",
              "</div>\n",
              "      <button class=\"colab-df-convert\" onclick=\"convertToInteractive('df-5d6a4c17-430b-4087-86bb-979977019521')\"\n",
              "              title=\"Convert this dataframe to an interactive table.\"\n",
              "              style=\"display:none;\">\n",
              "        \n",
              "  <svg xmlns=\"http://www.w3.org/2000/svg\" height=\"24px\"viewBox=\"0 0 24 24\"\n",
              "       width=\"24px\">\n",
              "    <path d=\"M0 0h24v24H0V0z\" fill=\"none\"/>\n",
              "    <path d=\"M18.56 5.44l.94 2.06.94-2.06 2.06-.94-2.06-.94-.94-2.06-.94 2.06-2.06.94zm-11 1L8.5 8.5l.94-2.06 2.06-.94-2.06-.94L8.5 2.5l-.94 2.06-2.06.94zm10 10l.94 2.06.94-2.06 2.06-.94-2.06-.94-.94-2.06-.94 2.06-2.06.94z\"/><path d=\"M17.41 7.96l-1.37-1.37c-.4-.4-.92-.59-1.43-.59-.52 0-1.04.2-1.43.59L10.3 9.45l-7.72 7.72c-.78.78-.78 2.05 0 2.83L4 21.41c.39.39.9.59 1.41.59.51 0 1.02-.2 1.41-.59l7.78-7.78 2.81-2.81c.8-.78.8-2.07 0-2.86zM5.41 20L4 18.59l7.72-7.72 1.47 1.35L5.41 20z\"/>\n",
              "  </svg>\n",
              "      </button>\n",
              "      \n",
              "  <style>\n",
              "    .colab-df-container {\n",
              "      display:flex;\n",
              "      flex-wrap:wrap;\n",
              "      gap: 12px;\n",
              "    }\n",
              "\n",
              "    .colab-df-convert {\n",
              "      background-color: #E8F0FE;\n",
              "      border: none;\n",
              "      border-radius: 50%;\n",
              "      cursor: pointer;\n",
              "      display: none;\n",
              "      fill: #1967D2;\n",
              "      height: 32px;\n",
              "      padding: 0 0 0 0;\n",
              "      width: 32px;\n",
              "    }\n",
              "\n",
              "    .colab-df-convert:hover {\n",
              "      background-color: #E2EBFA;\n",
              "      box-shadow: 0px 1px 2px rgba(60, 64, 67, 0.3), 0px 1px 3px 1px rgba(60, 64, 67, 0.15);\n",
              "      fill: #174EA6;\n",
              "    }\n",
              "\n",
              "    [theme=dark] .colab-df-convert {\n",
              "      background-color: #3B4455;\n",
              "      fill: #D2E3FC;\n",
              "    }\n",
              "\n",
              "    [theme=dark] .colab-df-convert:hover {\n",
              "      background-color: #434B5C;\n",
              "      box-shadow: 0px 1px 3px 1px rgba(0, 0, 0, 0.15);\n",
              "      filter: drop-shadow(0px 1px 2px rgba(0, 0, 0, 0.3));\n",
              "      fill: #FFFFFF;\n",
              "    }\n",
              "  </style>\n",
              "\n",
              "      <script>\n",
              "        const buttonEl =\n",
              "          document.querySelector('#df-5d6a4c17-430b-4087-86bb-979977019521 button.colab-df-convert');\n",
              "        buttonEl.style.display =\n",
              "          google.colab.kernel.accessAllowed ? 'block' : 'none';\n",
              "\n",
              "        async function convertToInteractive(key) {\n",
              "          const element = document.querySelector('#df-5d6a4c17-430b-4087-86bb-979977019521');\n",
              "          const dataTable =\n",
              "            await google.colab.kernel.invokeFunction('convertToInteractive',\n",
              "                                                     [key], {});\n",
              "          if (!dataTable) return;\n",
              "\n",
              "          const docLinkHtml = 'Like what you see? Visit the ' +\n",
              "            '<a target=\"_blank\" href=https://colab.research.google.com/notebooks/data_table.ipynb>data table notebook</a>'\n",
              "            + ' to learn more about interactive tables.';\n",
              "          element.innerHTML = '';\n",
              "          dataTable['output_type'] = 'display_data';\n",
              "          await google.colab.output.renderOutput(dataTable, element);\n",
              "          const docLink = document.createElement('div');\n",
              "          docLink.innerHTML = docLinkHtml;\n",
              "          element.appendChild(docLink);\n",
              "        }\n",
              "      </script>\n",
              "    </div>\n",
              "  </div>\n",
              "  "
            ]
          },
          "metadata": {},
          "execution_count": 4
        }
      ]
    },
    {
      "cell_type": "markdown",
      "source": [
        "## a) Посчитайте z-test для среднего значения теста по математике у девушек, родители которых закончили бакалавриат. Вес - 0.5"
      ],
      "metadata": {
        "id": "F4fYNdYkGfH_"
      }
    },
    {
      "cell_type": "markdown",
      "source": [
        "Пусть мы знаем, что среднее значение такого теста для всех студентов во всех университетах - 67.5. Стандартное октлонение - 13"
      ],
      "metadata": {
        "id": "dF4CT8Y0uCGZ"
      }
    },
    {
      "cell_type": "code",
      "source": [
        "# H0: среднее по ген. совок-ти не отличается от среднего по выборке рез-тов только девушек с родителями-бакалаврами  \n",
        "# H1: есть значимые отличия в средних по ген. совок-ти от среднего по выборке рез-тов только девушек с родителями-бакалаврами \n",
        "# используем формулу среднее значение по выборке - ген. среднее / (ст. откл. ген совок-ти / корень из численности выборки)\n",
        "\n",
        "# Предварительные условия - количество выборок >= 30, должны быть известны среднее значение и стандартное отклонение совокупности\n",
        "# Здесь у нас есть среднее значение и стандартное отклонение результатов теста по математике = 67,5 при стандартном отклонении 13\n",
        "    \n",
        "# Применим Z-тест к столбцу  ord['Gender'] == 'female') & (ord[\"ParentEduc\"] == \"bachelor's degree\")]['MathScore'] данного df\n",
        "#mu = μ \n",
        "mu = 67.5   # source - http://sphweb.bumc.bu.edu/otlt/MPH-Modules/BS/BS704_BiostatisticsBasics/BS704_BiostatisticsBasics3.html\n",
        "std = 13\n",
        "# Найдем среднее значение по выборке девушек с родителями-бакалварми в заданном фрейме данных\n",
        "MeanOfSample = ord[(ord['Gender'] == 'female') & (ord[\"ParentEduc\"] == \"bachelor's degree\")]['MathScore'].mean()\n",
        "print(\"Mean Of the Sample\", MeanOfSample)\n",
        "SE= std/np.sqrt(len(ord[(ord['Gender'] == 'female') & (ord[\"ParentEduc\"] == \"bachelor's degree\")]['MathScore']))  # стандартная ошибка через ст. откл. \n",
        "print('Standard Error:' , SE) # генеральной совокупност,и деленное на корень из размера выборки\n",
        "# Z_norm_deviate =  sample_mean - population_mean /std_error\n",
        "Z_norm_deviate = (MeanOfSample - mu) / SE \n",
        "print(\"Normal Deviate Z Value: \", Z_norm_deviate)"
      ],
      "metadata": {
        "id": "ynGCmzvIolQ7",
        "colab": {
          "base_uri": "https://localhost:8080/"
        },
        "outputId": "bc241dea-79de-478a-cf5c-45dacf30b59d"
      },
      "execution_count": null,
      "outputs": [
        {
          "output_type": "stream",
          "name": "stdout",
          "text": [
            "Mean Of the Sample 67.65222222222222\n",
            "Standard Error: 0.30641293851417056\n",
            "Normal Deviate Z Value:  0.4967878411413145\n"
          ]
        }
      ]
    },
    {
      "cell_type": "markdown",
      "source": [
        "## b) Посчитайте p-value для полученного значения z-теста. Значимая ли разница у приведенного выборки и генеральной совокупности? Вес - 0.5"
      ],
      "metadata": {
        "id": "RKVZnlYbG-pp"
      }
    },
    {
      "cell_type": "code",
      "source": [
        "# Мы будем использовать функцию scipy stats sf и проверять значимость различий на уровне значимости  5%\n",
        "# Умножаем функцию sf на 2 для вычисления двустороннего p value, для двусторонней гипотезы\n",
        "p_value = stats.norm.sf(abs(Z_norm_deviate))*2 \n",
        "print('p value' , p_value)\n",
        "if p_value > 0.05:\n",
        "  print('Не удается отклонить H0')\n",
        "else:\n",
        "  print('Отклонить H0')"
      ],
      "metadata": {
        "id": "h0gTNrGlrjlW",
        "colab": {
          "base_uri": "https://localhost:8080/"
        },
        "outputId": "290e7c42-f030-4347-d70b-46b85de72bf2"
      },
      "execution_count": null,
      "outputs": [
        {
          "output_type": "stream",
          "name": "stdout",
          "text": [
            "p value 0.6193386703457435\n",
            "Не удается отклонить H0\n"
          ]
        }
      ]
    },
    {
      "cell_type": "markdown",
      "source": [
        "С вероятностью 95% можем утверждать, что  между выборочным значением баллов за тест по матеше и средним значением генеральной совокупности существует значимая разница в Средних значениях, поэтому мы должны отклонить нулевую гипотезу H0 и принять альтернативную гипотезу: H1."
      ],
      "metadata": {
        "id": "p1GGlCwuuKGL"
      }
    },
    {
      "cell_type": "markdown",
      "source": [
        "# Задание 2: одновыборочный t-test"
      ],
      "metadata": {
        "id": "jBQWEP75SqGC"
      }
    },
    {
      "cell_type": "markdown",
      "source": [
        "Продолжим работу с данными о тестировании студентов. Давайте поймем, помогает ли подготовка к тесту по чтению сдавать его лучше. Мы знаем, что среднее значение для генеральной совокупности - 70. Но в этот раз мы не знаем стандартного отклонения - поэтому используем t-test\n"
      ],
      "metadata": {
        "id": "GdRuccSVzyyb"
      }
    },
    {
      "cell_type": "markdown",
      "source": [
        "## 2a)  Посчитайте t-test для среднего значения теста по чтению у студентов, которые прошли подготовку к тесту. Вес - 0.5"
      ],
      "metadata": {
        "id": "ywjc6y_YJoGT"
      }
    },
    {
      "cell_type": "markdown",
      "source": [
        "Переменная TestPrep, значение completed"
      ],
      "metadata": {
        "id": "eOxR2TMzJ--0"
      }
    },
    {
      "cell_type": "code",
      "source": [
        "# H0: средние значения у прошедших подготовку не отличаются от средних оценок за тест по чтению по ген совок-ти\n",
        "# H1: средние значения у прошедших подготовку выше средних оценок за тест по чтению по ген совок-ти\n",
        "\n",
        "result = stats.ttest_1samp(a=ord[ord['TestPrep'] == 'completed']['ReadingScore'], popmean=70, alternative='greater')\n",
        "result"
      ],
      "metadata": {
        "id": "tJb6SKTsyCSX",
        "colab": {
          "base_uri": "https://localhost:8080/"
        },
        "outputId": "ff86d09c-7896-4f78-a6ee-2e226b0e0e34"
      },
      "execution_count": null,
      "outputs": [
        {
          "output_type": "execute_result",
          "data": {
            "text/plain": [
              "TtestResult(statistic=28.862005279791358, pvalue=1.1026838828639981e-176, df=10572)"
            ]
          },
          "metadata": {},
          "execution_count": 7
        }
      ]
    },
    {
      "cell_type": "code",
      "source": [
        "# Проверю себя, посчитав по формуле\n",
        "stotkl = ord[ord['TestPrep'] == 'completed']['ReadingScore'].std()\n",
        "standosh = stotkl / np.sqrt(len(ord[ord['TestPrep'] == 'completed']['ReadingScore']))\n",
        "itog = (ord[ord['TestPrep'] == 'completed']['ReadingScore'].mean() - 70) / standosh\n",
        "itog # действительно значение т статистики = 28.862"
      ],
      "metadata": {
        "id": "NzM8hjO1ZONJ",
        "colab": {
          "base_uri": "https://localhost:8080/"
        },
        "outputId": "c12e623c-93c6-4519-a774-0e82801d0aa7"
      },
      "execution_count": null,
      "outputs": [
        {
          "output_type": "execute_result",
          "data": {
            "text/plain": [
              "28.862005279791358"
            ]
          },
          "metadata": {},
          "execution_count": 8
        }
      ]
    },
    {
      "cell_type": "markdown",
      "source": [
        "## 2b) Посчитайте p-value для получившегося значения и ответьте на вопрос - \"Улучшает ли подгтовка к тесту его результат?\". Вес - 0.5"
      ],
      "metadata": {
        "id": "UYG2vPh7KEk9"
      }
    },
    {
      "cell_type": "code",
      "source": [
        "# Возьмем уровень значимости 5%. P value оказалось меньше 0.05, отклоняем гипотезу H0. Видим, что \n",
        "# различия в оценках значимы, и с вероятностью 95% мы можем утверждать, что \n",
        "# средние значения рез-тов теста по чтению у прошедших подготовку выше средних оценок за тест по чтению по ген совок-ти\n",
        "\n",
        "if result.pvalue  > 0.05:\n",
        "  print('Не удается отклонить H0')\n",
        "else:\n",
        "  print('Отклонить H0')"
      ],
      "metadata": {
        "id": "ue_l1GYkKQUF",
        "colab": {
          "base_uri": "https://localhost:8080/"
        },
        "outputId": "3935077f-254f-4887-c043-64942a02608a"
      },
      "execution_count": null,
      "outputs": [
        {
          "output_type": "stream",
          "name": "stdout",
          "text": [
            "Отклонить H0\n"
          ]
        }
      ]
    },
    {
      "cell_type": "markdown",
      "source": [
        "# Задание 3: парный t-test"
      ],
      "metadata": {
        "id": "euINFlnsSw9-"
      }
    },
    {
      "cell_type": "markdown",
      "source": [
        "Теперь скачаем данные Islander_data.csv. Они содержат данные от приеме пациентами лекарств от тревожности разного типа и влияение их на прохождение теста на память. Описание данных:\n",
        "- first_name, last_name - имя и фамилия пациента\n",
        "- age - возраст\n",
        "- Happy_Sad_group настроение до приема препарата\n",
        "- Dosage - доза\n",
        "- Drug - препарат\n",
        "- Mem_Score_Before - результат теста до приема\n",
        "- Mem_Score_After - результат теста после приема\n",
        "- Diff - разница тестов"
      ],
      "metadata": {
        "id": "JtEi3I5m31MT"
      }
    },
    {
      "cell_type": "code",
      "source": [
        "isl = pd.read_csv('/content/drive/MyDrive/Дата сосайенс/Islander_data.csv')\n",
        "isl"
      ],
      "metadata": {
        "id": "tYVAiMvQeJ83",
        "colab": {
          "base_uri": "https://localhost:8080/",
          "height": 419
        },
        "outputId": "21c78bb5-c635-4808-83e2-729a724dbfdd"
      },
      "execution_count": null,
      "outputs": [
        {
          "output_type": "execute_result",
          "data": {
            "text/plain": [
              "     first_name  last_name  age Happy_Sad_group  Dosage Drug  \\\n",
              "0       Bastian   Carrasco   25               H       1    A   \n",
              "1          Evan   Carrasco   52               S       1    A   \n",
              "2     Florencia   Carrasco   29               H       1    A   \n",
              "3         Holly   Carrasco   50               S       1    A   \n",
              "4        Justin   Carrasco   52               H       1    A   \n",
              "..          ...        ...  ...             ...     ...  ...   \n",
              "193       Jacob      Novak   52               H       3    T   \n",
              "194         Teo    Steiner   41               S       3    T   \n",
              "195   Alexander  Takahashi   54               S       3    T   \n",
              "196  Alexandere  Takahashi   40               H       3    T   \n",
              "197       Chloe  Takahashi   32               S       3    T   \n",
              "\n",
              "     Mem_Score_Before  Mem_Score_After  Diff  \n",
              "0                63.5             61.2  -2.3  \n",
              "1                41.6             40.7  -0.9  \n",
              "2                59.7             55.1  -4.6  \n",
              "3                51.7             51.2  -0.5  \n",
              "4                47.0             47.1   0.1  \n",
              "..                ...              ...   ...  \n",
              "193              71.3             74.3   3.0  \n",
              "194              72.5             70.4  -2.1  \n",
              "195              30.8             33.1   2.3  \n",
              "196              53.6             53.8   0.2  \n",
              "197              43.1             42.1  -1.0  \n",
              "\n",
              "[198 rows x 9 columns]"
            ],
            "text/html": [
              "\n",
              "  <div id=\"df-aba022de-d5be-4c18-8aa8-e6aad9e61943\">\n",
              "    <div class=\"colab-df-container\">\n",
              "      <div>\n",
              "<style scoped>\n",
              "    .dataframe tbody tr th:only-of-type {\n",
              "        vertical-align: middle;\n",
              "    }\n",
              "\n",
              "    .dataframe tbody tr th {\n",
              "        vertical-align: top;\n",
              "    }\n",
              "\n",
              "    .dataframe thead th {\n",
              "        text-align: right;\n",
              "    }\n",
              "</style>\n",
              "<table border=\"1\" class=\"dataframe\">\n",
              "  <thead>\n",
              "    <tr style=\"text-align: right;\">\n",
              "      <th></th>\n",
              "      <th>first_name</th>\n",
              "      <th>last_name</th>\n",
              "      <th>age</th>\n",
              "      <th>Happy_Sad_group</th>\n",
              "      <th>Dosage</th>\n",
              "      <th>Drug</th>\n",
              "      <th>Mem_Score_Before</th>\n",
              "      <th>Mem_Score_After</th>\n",
              "      <th>Diff</th>\n",
              "    </tr>\n",
              "  </thead>\n",
              "  <tbody>\n",
              "    <tr>\n",
              "      <th>0</th>\n",
              "      <td>Bastian</td>\n",
              "      <td>Carrasco</td>\n",
              "      <td>25</td>\n",
              "      <td>H</td>\n",
              "      <td>1</td>\n",
              "      <td>A</td>\n",
              "      <td>63.5</td>\n",
              "      <td>61.2</td>\n",
              "      <td>-2.3</td>\n",
              "    </tr>\n",
              "    <tr>\n",
              "      <th>1</th>\n",
              "      <td>Evan</td>\n",
              "      <td>Carrasco</td>\n",
              "      <td>52</td>\n",
              "      <td>S</td>\n",
              "      <td>1</td>\n",
              "      <td>A</td>\n",
              "      <td>41.6</td>\n",
              "      <td>40.7</td>\n",
              "      <td>-0.9</td>\n",
              "    </tr>\n",
              "    <tr>\n",
              "      <th>2</th>\n",
              "      <td>Florencia</td>\n",
              "      <td>Carrasco</td>\n",
              "      <td>29</td>\n",
              "      <td>H</td>\n",
              "      <td>1</td>\n",
              "      <td>A</td>\n",
              "      <td>59.7</td>\n",
              "      <td>55.1</td>\n",
              "      <td>-4.6</td>\n",
              "    </tr>\n",
              "    <tr>\n",
              "      <th>3</th>\n",
              "      <td>Holly</td>\n",
              "      <td>Carrasco</td>\n",
              "      <td>50</td>\n",
              "      <td>S</td>\n",
              "      <td>1</td>\n",
              "      <td>A</td>\n",
              "      <td>51.7</td>\n",
              "      <td>51.2</td>\n",
              "      <td>-0.5</td>\n",
              "    </tr>\n",
              "    <tr>\n",
              "      <th>4</th>\n",
              "      <td>Justin</td>\n",
              "      <td>Carrasco</td>\n",
              "      <td>52</td>\n",
              "      <td>H</td>\n",
              "      <td>1</td>\n",
              "      <td>A</td>\n",
              "      <td>47.0</td>\n",
              "      <td>47.1</td>\n",
              "      <td>0.1</td>\n",
              "    </tr>\n",
              "    <tr>\n",
              "      <th>...</th>\n",
              "      <td>...</td>\n",
              "      <td>...</td>\n",
              "      <td>...</td>\n",
              "      <td>...</td>\n",
              "      <td>...</td>\n",
              "      <td>...</td>\n",
              "      <td>...</td>\n",
              "      <td>...</td>\n",
              "      <td>...</td>\n",
              "    </tr>\n",
              "    <tr>\n",
              "      <th>193</th>\n",
              "      <td>Jacob</td>\n",
              "      <td>Novak</td>\n",
              "      <td>52</td>\n",
              "      <td>H</td>\n",
              "      <td>3</td>\n",
              "      <td>T</td>\n",
              "      <td>71.3</td>\n",
              "      <td>74.3</td>\n",
              "      <td>3.0</td>\n",
              "    </tr>\n",
              "    <tr>\n",
              "      <th>194</th>\n",
              "      <td>Teo</td>\n",
              "      <td>Steiner</td>\n",
              "      <td>41</td>\n",
              "      <td>S</td>\n",
              "      <td>3</td>\n",
              "      <td>T</td>\n",
              "      <td>72.5</td>\n",
              "      <td>70.4</td>\n",
              "      <td>-2.1</td>\n",
              "    </tr>\n",
              "    <tr>\n",
              "      <th>195</th>\n",
              "      <td>Alexander</td>\n",
              "      <td>Takahashi</td>\n",
              "      <td>54</td>\n",
              "      <td>S</td>\n",
              "      <td>3</td>\n",
              "      <td>T</td>\n",
              "      <td>30.8</td>\n",
              "      <td>33.1</td>\n",
              "      <td>2.3</td>\n",
              "    </tr>\n",
              "    <tr>\n",
              "      <th>196</th>\n",
              "      <td>Alexandere</td>\n",
              "      <td>Takahashi</td>\n",
              "      <td>40</td>\n",
              "      <td>H</td>\n",
              "      <td>3</td>\n",
              "      <td>T</td>\n",
              "      <td>53.6</td>\n",
              "      <td>53.8</td>\n",
              "      <td>0.2</td>\n",
              "    </tr>\n",
              "    <tr>\n",
              "      <th>197</th>\n",
              "      <td>Chloe</td>\n",
              "      <td>Takahashi</td>\n",
              "      <td>32</td>\n",
              "      <td>S</td>\n",
              "      <td>3</td>\n",
              "      <td>T</td>\n",
              "      <td>43.1</td>\n",
              "      <td>42.1</td>\n",
              "      <td>-1.0</td>\n",
              "    </tr>\n",
              "  </tbody>\n",
              "</table>\n",
              "<p>198 rows × 9 columns</p>\n",
              "</div>\n",
              "      <button class=\"colab-df-convert\" onclick=\"convertToInteractive('df-aba022de-d5be-4c18-8aa8-e6aad9e61943')\"\n",
              "              title=\"Convert this dataframe to an interactive table.\"\n",
              "              style=\"display:none;\">\n",
              "        \n",
              "  <svg xmlns=\"http://www.w3.org/2000/svg\" height=\"24px\"viewBox=\"0 0 24 24\"\n",
              "       width=\"24px\">\n",
              "    <path d=\"M0 0h24v24H0V0z\" fill=\"none\"/>\n",
              "    <path d=\"M18.56 5.44l.94 2.06.94-2.06 2.06-.94-2.06-.94-.94-2.06-.94 2.06-2.06.94zm-11 1L8.5 8.5l.94-2.06 2.06-.94-2.06-.94L8.5 2.5l-.94 2.06-2.06.94zm10 10l.94 2.06.94-2.06 2.06-.94-2.06-.94-.94-2.06-.94 2.06-2.06.94z\"/><path d=\"M17.41 7.96l-1.37-1.37c-.4-.4-.92-.59-1.43-.59-.52 0-1.04.2-1.43.59L10.3 9.45l-7.72 7.72c-.78.78-.78 2.05 0 2.83L4 21.41c.39.39.9.59 1.41.59.51 0 1.02-.2 1.41-.59l7.78-7.78 2.81-2.81c.8-.78.8-2.07 0-2.86zM5.41 20L4 18.59l7.72-7.72 1.47 1.35L5.41 20z\"/>\n",
              "  </svg>\n",
              "      </button>\n",
              "      \n",
              "  <style>\n",
              "    .colab-df-container {\n",
              "      display:flex;\n",
              "      flex-wrap:wrap;\n",
              "      gap: 12px;\n",
              "    }\n",
              "\n",
              "    .colab-df-convert {\n",
              "      background-color: #E8F0FE;\n",
              "      border: none;\n",
              "      border-radius: 50%;\n",
              "      cursor: pointer;\n",
              "      display: none;\n",
              "      fill: #1967D2;\n",
              "      height: 32px;\n",
              "      padding: 0 0 0 0;\n",
              "      width: 32px;\n",
              "    }\n",
              "\n",
              "    .colab-df-convert:hover {\n",
              "      background-color: #E2EBFA;\n",
              "      box-shadow: 0px 1px 2px rgba(60, 64, 67, 0.3), 0px 1px 3px 1px rgba(60, 64, 67, 0.15);\n",
              "      fill: #174EA6;\n",
              "    }\n",
              "\n",
              "    [theme=dark] .colab-df-convert {\n",
              "      background-color: #3B4455;\n",
              "      fill: #D2E3FC;\n",
              "    }\n",
              "\n",
              "    [theme=dark] .colab-df-convert:hover {\n",
              "      background-color: #434B5C;\n",
              "      box-shadow: 0px 1px 3px 1px rgba(0, 0, 0, 0.15);\n",
              "      filter: drop-shadow(0px 1px 2px rgba(0, 0, 0, 0.3));\n",
              "      fill: #FFFFFF;\n",
              "    }\n",
              "  </style>\n",
              "\n",
              "      <script>\n",
              "        const buttonEl =\n",
              "          document.querySelector('#df-aba022de-d5be-4c18-8aa8-e6aad9e61943 button.colab-df-convert');\n",
              "        buttonEl.style.display =\n",
              "          google.colab.kernel.accessAllowed ? 'block' : 'none';\n",
              "\n",
              "        async function convertToInteractive(key) {\n",
              "          const element = document.querySelector('#df-aba022de-d5be-4c18-8aa8-e6aad9e61943');\n",
              "          const dataTable =\n",
              "            await google.colab.kernel.invokeFunction('convertToInteractive',\n",
              "                                                     [key], {});\n",
              "          if (!dataTable) return;\n",
              "\n",
              "          const docLinkHtml = 'Like what you see? Visit the ' +\n",
              "            '<a target=\"_blank\" href=https://colab.research.google.com/notebooks/data_table.ipynb>data table notebook</a>'\n",
              "            + ' to learn more about interactive tables.';\n",
              "          element.innerHTML = '';\n",
              "          dataTable['output_type'] = 'display_data';\n",
              "          await google.colab.output.renderOutput(dataTable, element);\n",
              "          const docLink = document.createElement('div');\n",
              "          docLink.innerHTML = docLinkHtml;\n",
              "          element.appendChild(docLink);\n",
              "        }\n",
              "      </script>\n",
              "    </div>\n",
              "  </div>\n",
              "  "
            ]
          },
          "metadata": {},
          "execution_count": 10
        }
      ]
    },
    {
      "cell_type": "markdown",
      "source": [
        "## 3a) Посчитайте, какие бывают типы препаратов и в каком объеме они представлены в данных. Вес - 0.25"
      ],
      "metadata": {
        "id": "kGMECW2IL7YJ"
      }
    },
    {
      "cell_type": "code",
      "source": [
        "isl['Drug'].unique() # выясняем, каки есть типы препаратов"
      ],
      "metadata": {
        "id": "mwJJog9DL61s",
        "colab": {
          "base_uri": "https://localhost:8080/"
        },
        "outputId": "816c417f-6b93-44f3-ecbe-9aa3c3aad6d7"
      },
      "execution_count": null,
      "outputs": [
        {
          "output_type": "execute_result",
          "data": {
            "text/plain": [
              "array(['A', 'S', 'T'], dtype=object)"
            ]
          },
          "metadata": {},
          "execution_count": 11
        }
      ]
    },
    {
      "cell_type": "code",
      "source": [
        "# смотрим,  сколько их, в абсолютных и относительных значениях. примерно равные выборки и их доли, поэтому можно сравнивать \n",
        "# влияние на одних и тех же людях до и после\n",
        "num_A = isl[isl['Drug'] == 'A'].shape[0]\n",
        "num_S = isl[isl['Drug'] == 'S'].shape[0]\n",
        "num_T = isl[isl['Drug'] == 'T'].shape[0]\n",
        "print(num_A, num_S, num_T)\n",
        "share_A = round(isl[isl['Drug'] == 'A'].shape[0] / len(isl['Drug']),3)\n",
        "share_S = round(isl[isl['Drug'] == 'S'].shape[0] / len(isl['Drug']),3)\n",
        "share_T = round(isl[isl['Drug'] == 'T'].shape[0] / len(isl['Drug']),3)\n",
        "print(share_A, share_S, share_T)"
      ],
      "metadata": {
        "id": "Cvpql3BafMss",
        "colab": {
          "base_uri": "https://localhost:8080/"
        },
        "outputId": "81b457bb-7fb9-44b4-9d09-61ad4c6fc981"
      },
      "execution_count": null,
      "outputs": [
        {
          "output_type": "stream",
          "name": "stdout",
          "text": [
            "67 66 65\n",
            "0.338 0.333 0.328\n"
          ]
        }
      ]
    },
    {
      "cell_type": "markdown",
      "source": [
        "## 3b) Посчитатайте значение парного t-теста для изменение результата теста на память для каждого из видов препарата Вес - 0.75"
      ],
      "metadata": {
        "id": "yg4lt6R-LvVs"
      }
    },
    {
      "cell_type": "code",
      "source": [
        "# берем t-тест для зависимых выборок, тк сравниваем рез-ты одних и тех же людей, просто до и после приема препарата\n",
        "resA = stats.ttest_rel(isl[isl['Drug'] == 'A']['Mem_Score_Before'], isl[isl['Drug'] == 'A']['Mem_Score_After'])\n",
        "resA"
      ],
      "metadata": {
        "id": "qh8NPNM06GLU",
        "colab": {
          "base_uri": "https://localhost:8080/"
        },
        "outputId": "8de6b8d2-b221-4519-9c16-5e182e7eabc2"
      },
      "execution_count": null,
      "outputs": [
        {
          "output_type": "execute_result",
          "data": {
            "text/plain": [
              "TtestResult(statistic=-5.8485679397308425, pvalue=1.6898179935298675e-07, df=66)"
            ]
          },
          "metadata": {},
          "execution_count": 13
        }
      ]
    },
    {
      "cell_type": "code",
      "source": [
        "resS = stats.ttest_rel(isl[isl['Drug'] == 'S']['Mem_Score_Before'], isl[isl['Drug'] == 'S']['Mem_Score_After'])\n",
        "resS"
      ],
      "metadata": {
        "id": "d8OVk_hWki_k",
        "colab": {
          "base_uri": "https://localhost:8080/"
        },
        "outputId": "0ad6839f-6bfc-4bc6-eb79-a1347be63783"
      },
      "execution_count": null,
      "outputs": [
        {
          "output_type": "execute_result",
          "data": {
            "text/plain": [
              "TtestResult(statistic=0.1854597408842658, pvalue=0.8534459675334038, df=65)"
            ]
          },
          "metadata": {},
          "execution_count": 14
        }
      ]
    },
    {
      "cell_type": "code",
      "source": [
        "resT = stats.ttest_rel(isl[isl['Drug'] == 'T']['Mem_Score_Before'], isl[isl['Drug'] == 'T']['Mem_Score_After'])\n",
        "resT"
      ],
      "metadata": {
        "id": "RDUyr5blkpMW",
        "colab": {
          "base_uri": "https://localhost:8080/"
        },
        "outputId": "d09f3fa7-939d-4f06-e547-beaee3eb7206"
      },
      "execution_count": null,
      "outputs": [
        {
          "output_type": "execute_result",
          "data": {
            "text/plain": [
              "TtestResult(statistic=0.6669171283034249, pvalue=0.5072224471243232, df=64)"
            ]
          },
          "metadata": {},
          "execution_count": 15
        }
      ]
    },
    {
      "cell_type": "markdown",
      "source": [
        "## 3c) Получите p-value  для каждого из полученных значений t-теста. Какие препараты влияют на память, а какие нет? Вес - 0.75\n"
      ],
      "metadata": {
        "id": "pFuyMnGiNnjv"
      }
    },
    {
      "cell_type": "code",
      "source": [
        "# Берем все тот же уровень значимости 0.05. С вероятностью 95% мы можем утверждать, что влияние препарата А \n",
        "# на рез-ты теста на память значимо. В выборках же людей, принимавших другие два препарата, \n",
        "# различия средних оказались незначимы, согласно t-тесту для зависимых выборок\n",
        "if resA.pvalue  > 0.05:\n",
        "  print(resA.pvalue, 'Не удается отклонить H0')\n",
        "else:\n",
        "  print(resA.pvalue, 'Отклонить H0')"
      ],
      "metadata": {
        "id": "jimQyfy_ZM_B",
        "colab": {
          "base_uri": "https://localhost:8080/"
        },
        "outputId": "9b6b5a4f-cde2-44b5-bb9a-5c05ffddaa02"
      },
      "execution_count": null,
      "outputs": [
        {
          "output_type": "stream",
          "name": "stdout",
          "text": [
            "1.6898179935298675e-07 Отклонить H0\n"
          ]
        }
      ]
    },
    {
      "cell_type": "code",
      "source": [
        "if resS.pvalue  > 0.05:\n",
        "  print(resS.pvalue, 'Не удается отклонить H0')\n",
        "else:\n",
        "  print(resS.pvalue, 'Отклонить H0')"
      ],
      "metadata": {
        "id": "e0TXfXMklzrU",
        "colab": {
          "base_uri": "https://localhost:8080/"
        },
        "outputId": "6ee68c77-d761-4acc-d2ff-b08dcd995627"
      },
      "execution_count": null,
      "outputs": [
        {
          "output_type": "stream",
          "name": "stdout",
          "text": [
            "0.8534459675334038 Не удается отклонить H0\n"
          ]
        }
      ]
    },
    {
      "cell_type": "code",
      "source": [
        "if resT.pvalue  > 0.05:\n",
        "  print(resT.pvalue, 'Не удается отклонить H0')\n",
        "else:\n",
        "  print(resT.pvalue, 'Отклонить H0')"
      ],
      "metadata": {
        "id": "EGyHC2Mfl3pc",
        "colab": {
          "base_uri": "https://localhost:8080/"
        },
        "outputId": "5024ca7d-d4ad-4e3a-8304-415d5ce286fa"
      },
      "execution_count": null,
      "outputs": [
        {
          "output_type": "stream",
          "name": "stdout",
          "text": [
            "0.5072224471243232 Не удается отклонить H0\n"
          ]
        }
      ]
    },
    {
      "cell_type": "markdown",
      "source": [
        "# Задание 4: двухвыборочный t-test"
      ],
      "metadata": {
        "id": "HeHyFamVS_MP"
      }
    },
    {
      "cell_type": "markdown",
      "source": [
        "Теперь представим, что вы работаете аналитиком данных в компании - разработчике игр. Загрузите данные cookie_cats.csv\n",
        "\n",
        "Ваша команда недавно на половину пользователей внедрила новое изменение в процессе игры: теперь пользователей в самом начале попадает не к воротам на 30 уровне, а к воротам на 40 уровне (что бы это не значило). \n",
        "\n",
        "Ваша задача - понять, какой эффект на бизнес это дало. Описание данных:\n",
        "- userid - id пользователя\n",
        "- version - группа пользователей: gate_30 или gate_40\n",
        "- sum_gamerounds - количество сыгранных раундов за первые 14 дней\n",
        "- retention_1 - флаг того, что пользователь вернется в игру через 1 день после скачивания\n",
        "- retention_7 - флаг того, что пользователь вернется в игру через 7 дней после скачивания"
      ],
      "metadata": {
        "id": "CKDPVANL7vwJ"
      }
    },
    {
      "cell_type": "code",
      "source": [
        "cc = pd.read_csv('/content/drive/MyDrive/Дата сосайенс/cookie_cats.csv')\n",
        "cc"
      ],
      "metadata": {
        "id": "OSmJxWbcuOG7",
        "colab": {
          "base_uri": "https://localhost:8080/",
          "height": 419
        },
        "outputId": "d7d94efe-067e-4e2b-9ece-61b474b0ebad"
      },
      "execution_count": null,
      "outputs": [
        {
          "output_type": "execute_result",
          "data": {
            "text/plain": [
              "        userid  version  sum_gamerounds  retention_1  retention_7\n",
              "0          116  gate_30               3        False        False\n",
              "1          337  gate_30              38         True        False\n",
              "2          377  gate_40             165         True        False\n",
              "3          483  gate_40               1        False        False\n",
              "4          488  gate_40             179         True         True\n",
              "...        ...      ...             ...          ...          ...\n",
              "90184  9999441  gate_40              97         True        False\n",
              "90185  9999479  gate_40              30        False        False\n",
              "90186  9999710  gate_30              28         True        False\n",
              "90187  9999768  gate_40              51         True        False\n",
              "90188  9999861  gate_40              16        False        False\n",
              "\n",
              "[90189 rows x 5 columns]"
            ],
            "text/html": [
              "\n",
              "  <div id=\"df-7ed343fd-0567-49b6-a7b6-0b494f0acfcd\">\n",
              "    <div class=\"colab-df-container\">\n",
              "      <div>\n",
              "<style scoped>\n",
              "    .dataframe tbody tr th:only-of-type {\n",
              "        vertical-align: middle;\n",
              "    }\n",
              "\n",
              "    .dataframe tbody tr th {\n",
              "        vertical-align: top;\n",
              "    }\n",
              "\n",
              "    .dataframe thead th {\n",
              "        text-align: right;\n",
              "    }\n",
              "</style>\n",
              "<table border=\"1\" class=\"dataframe\">\n",
              "  <thead>\n",
              "    <tr style=\"text-align: right;\">\n",
              "      <th></th>\n",
              "      <th>userid</th>\n",
              "      <th>version</th>\n",
              "      <th>sum_gamerounds</th>\n",
              "      <th>retention_1</th>\n",
              "      <th>retention_7</th>\n",
              "    </tr>\n",
              "  </thead>\n",
              "  <tbody>\n",
              "    <tr>\n",
              "      <th>0</th>\n",
              "      <td>116</td>\n",
              "      <td>gate_30</td>\n",
              "      <td>3</td>\n",
              "      <td>False</td>\n",
              "      <td>False</td>\n",
              "    </tr>\n",
              "    <tr>\n",
              "      <th>1</th>\n",
              "      <td>337</td>\n",
              "      <td>gate_30</td>\n",
              "      <td>38</td>\n",
              "      <td>True</td>\n",
              "      <td>False</td>\n",
              "    </tr>\n",
              "    <tr>\n",
              "      <th>2</th>\n",
              "      <td>377</td>\n",
              "      <td>gate_40</td>\n",
              "      <td>165</td>\n",
              "      <td>True</td>\n",
              "      <td>False</td>\n",
              "    </tr>\n",
              "    <tr>\n",
              "      <th>3</th>\n",
              "      <td>483</td>\n",
              "      <td>gate_40</td>\n",
              "      <td>1</td>\n",
              "      <td>False</td>\n",
              "      <td>False</td>\n",
              "    </tr>\n",
              "    <tr>\n",
              "      <th>4</th>\n",
              "      <td>488</td>\n",
              "      <td>gate_40</td>\n",
              "      <td>179</td>\n",
              "      <td>True</td>\n",
              "      <td>True</td>\n",
              "    </tr>\n",
              "    <tr>\n",
              "      <th>...</th>\n",
              "      <td>...</td>\n",
              "      <td>...</td>\n",
              "      <td>...</td>\n",
              "      <td>...</td>\n",
              "      <td>...</td>\n",
              "    </tr>\n",
              "    <tr>\n",
              "      <th>90184</th>\n",
              "      <td>9999441</td>\n",
              "      <td>gate_40</td>\n",
              "      <td>97</td>\n",
              "      <td>True</td>\n",
              "      <td>False</td>\n",
              "    </tr>\n",
              "    <tr>\n",
              "      <th>90185</th>\n",
              "      <td>9999479</td>\n",
              "      <td>gate_40</td>\n",
              "      <td>30</td>\n",
              "      <td>False</td>\n",
              "      <td>False</td>\n",
              "    </tr>\n",
              "    <tr>\n",
              "      <th>90186</th>\n",
              "      <td>9999710</td>\n",
              "      <td>gate_30</td>\n",
              "      <td>28</td>\n",
              "      <td>True</td>\n",
              "      <td>False</td>\n",
              "    </tr>\n",
              "    <tr>\n",
              "      <th>90187</th>\n",
              "      <td>9999768</td>\n",
              "      <td>gate_40</td>\n",
              "      <td>51</td>\n",
              "      <td>True</td>\n",
              "      <td>False</td>\n",
              "    </tr>\n",
              "    <tr>\n",
              "      <th>90188</th>\n",
              "      <td>9999861</td>\n",
              "      <td>gate_40</td>\n",
              "      <td>16</td>\n",
              "      <td>False</td>\n",
              "      <td>False</td>\n",
              "    </tr>\n",
              "  </tbody>\n",
              "</table>\n",
              "<p>90189 rows × 5 columns</p>\n",
              "</div>\n",
              "      <button class=\"colab-df-convert\" onclick=\"convertToInteractive('df-7ed343fd-0567-49b6-a7b6-0b494f0acfcd')\"\n",
              "              title=\"Convert this dataframe to an interactive table.\"\n",
              "              style=\"display:none;\">\n",
              "        \n",
              "  <svg xmlns=\"http://www.w3.org/2000/svg\" height=\"24px\"viewBox=\"0 0 24 24\"\n",
              "       width=\"24px\">\n",
              "    <path d=\"M0 0h24v24H0V0z\" fill=\"none\"/>\n",
              "    <path d=\"M18.56 5.44l.94 2.06.94-2.06 2.06-.94-2.06-.94-.94-2.06-.94 2.06-2.06.94zm-11 1L8.5 8.5l.94-2.06 2.06-.94-2.06-.94L8.5 2.5l-.94 2.06-2.06.94zm10 10l.94 2.06.94-2.06 2.06-.94-2.06-.94-.94-2.06-.94 2.06-2.06.94z\"/><path d=\"M17.41 7.96l-1.37-1.37c-.4-.4-.92-.59-1.43-.59-.52 0-1.04.2-1.43.59L10.3 9.45l-7.72 7.72c-.78.78-.78 2.05 0 2.83L4 21.41c.39.39.9.59 1.41.59.51 0 1.02-.2 1.41-.59l7.78-7.78 2.81-2.81c.8-.78.8-2.07 0-2.86zM5.41 20L4 18.59l7.72-7.72 1.47 1.35L5.41 20z\"/>\n",
              "  </svg>\n",
              "      </button>\n",
              "      \n",
              "  <style>\n",
              "    .colab-df-container {\n",
              "      display:flex;\n",
              "      flex-wrap:wrap;\n",
              "      gap: 12px;\n",
              "    }\n",
              "\n",
              "    .colab-df-convert {\n",
              "      background-color: #E8F0FE;\n",
              "      border: none;\n",
              "      border-radius: 50%;\n",
              "      cursor: pointer;\n",
              "      display: none;\n",
              "      fill: #1967D2;\n",
              "      height: 32px;\n",
              "      padding: 0 0 0 0;\n",
              "      width: 32px;\n",
              "    }\n",
              "\n",
              "    .colab-df-convert:hover {\n",
              "      background-color: #E2EBFA;\n",
              "      box-shadow: 0px 1px 2px rgba(60, 64, 67, 0.3), 0px 1px 3px 1px rgba(60, 64, 67, 0.15);\n",
              "      fill: #174EA6;\n",
              "    }\n",
              "\n",
              "    [theme=dark] .colab-df-convert {\n",
              "      background-color: #3B4455;\n",
              "      fill: #D2E3FC;\n",
              "    }\n",
              "\n",
              "    [theme=dark] .colab-df-convert:hover {\n",
              "      background-color: #434B5C;\n",
              "      box-shadow: 0px 1px 3px 1px rgba(0, 0, 0, 0.15);\n",
              "      filter: drop-shadow(0px 1px 2px rgba(0, 0, 0, 0.3));\n",
              "      fill: #FFFFFF;\n",
              "    }\n",
              "  </style>\n",
              "\n",
              "      <script>\n",
              "        const buttonEl =\n",
              "          document.querySelector('#df-7ed343fd-0567-49b6-a7b6-0b494f0acfcd button.colab-df-convert');\n",
              "        buttonEl.style.display =\n",
              "          google.colab.kernel.accessAllowed ? 'block' : 'none';\n",
              "\n",
              "        async function convertToInteractive(key) {\n",
              "          const element = document.querySelector('#df-7ed343fd-0567-49b6-a7b6-0b494f0acfcd');\n",
              "          const dataTable =\n",
              "            await google.colab.kernel.invokeFunction('convertToInteractive',\n",
              "                                                     [key], {});\n",
              "          if (!dataTable) return;\n",
              "\n",
              "          const docLinkHtml = 'Like what you see? Visit the ' +\n",
              "            '<a target=\"_blank\" href=https://colab.research.google.com/notebooks/data_table.ipynb>data table notebook</a>'\n",
              "            + ' to learn more about interactive tables.';\n",
              "          element.innerHTML = '';\n",
              "          dataTable['output_type'] = 'display_data';\n",
              "          await google.colab.output.renderOutput(dataTable, element);\n",
              "          const docLink = document.createElement('div');\n",
              "          docLink.innerHTML = docLinkHtml;\n",
              "          element.appendChild(docLink);\n",
              "        }\n",
              "      </script>\n",
              "    </div>\n",
              "  </div>\n",
              "  "
            ]
          },
          "metadata": {},
          "execution_count": 19
        }
      ]
    },
    {
      "cell_type": "markdown",
      "source": [
        "## 4a) Замените в колонках retention_1 и retention_7 значения True на 1, а знаечния False на 0. Вес - 0.25"
      ],
      "metadata": {
        "id": "rpJemo0JRaX3"
      }
    },
    {
      "cell_type": "markdown",
      "source": [
        "Это позволит удобнее считать вероятность возвращения"
      ],
      "metadata": {
        "id": "hwgNRIqHRsjN"
      }
    },
    {
      "cell_type": "code",
      "source": [
        "cc['retention_1'] = cc['retention_1'].apply(lambda x: 1 if x == True else 0)\n",
        "cc['retention_7'] = cc['retention_7'].apply(lambda x: 1 if x == True else 0)\n",
        "cc"
      ],
      "metadata": {
        "id": "mUZnB6ZzRxoV",
        "colab": {
          "base_uri": "https://localhost:8080/",
          "height": 419
        },
        "outputId": "3f57df64-6057-4fa1-a9ff-75794e738f89"
      },
      "execution_count": null,
      "outputs": [
        {
          "output_type": "execute_result",
          "data": {
            "text/plain": [
              "        userid  version  sum_gamerounds  retention_1  retention_7\n",
              "0          116  gate_30               3            0            0\n",
              "1          337  gate_30              38            1            0\n",
              "2          377  gate_40             165            1            0\n",
              "3          483  gate_40               1            0            0\n",
              "4          488  gate_40             179            1            1\n",
              "...        ...      ...             ...          ...          ...\n",
              "90184  9999441  gate_40              97            1            0\n",
              "90185  9999479  gate_40              30            0            0\n",
              "90186  9999710  gate_30              28            1            0\n",
              "90187  9999768  gate_40              51            1            0\n",
              "90188  9999861  gate_40              16            0            0\n",
              "\n",
              "[90189 rows x 5 columns]"
            ],
            "text/html": [
              "\n",
              "  <div id=\"df-e4fbd328-4070-422d-8128-d1972ec23319\">\n",
              "    <div class=\"colab-df-container\">\n",
              "      <div>\n",
              "<style scoped>\n",
              "    .dataframe tbody tr th:only-of-type {\n",
              "        vertical-align: middle;\n",
              "    }\n",
              "\n",
              "    .dataframe tbody tr th {\n",
              "        vertical-align: top;\n",
              "    }\n",
              "\n",
              "    .dataframe thead th {\n",
              "        text-align: right;\n",
              "    }\n",
              "</style>\n",
              "<table border=\"1\" class=\"dataframe\">\n",
              "  <thead>\n",
              "    <tr style=\"text-align: right;\">\n",
              "      <th></th>\n",
              "      <th>userid</th>\n",
              "      <th>version</th>\n",
              "      <th>sum_gamerounds</th>\n",
              "      <th>retention_1</th>\n",
              "      <th>retention_7</th>\n",
              "    </tr>\n",
              "  </thead>\n",
              "  <tbody>\n",
              "    <tr>\n",
              "      <th>0</th>\n",
              "      <td>116</td>\n",
              "      <td>gate_30</td>\n",
              "      <td>3</td>\n",
              "      <td>0</td>\n",
              "      <td>0</td>\n",
              "    </tr>\n",
              "    <tr>\n",
              "      <th>1</th>\n",
              "      <td>337</td>\n",
              "      <td>gate_30</td>\n",
              "      <td>38</td>\n",
              "      <td>1</td>\n",
              "      <td>0</td>\n",
              "    </tr>\n",
              "    <tr>\n",
              "      <th>2</th>\n",
              "      <td>377</td>\n",
              "      <td>gate_40</td>\n",
              "      <td>165</td>\n",
              "      <td>1</td>\n",
              "      <td>0</td>\n",
              "    </tr>\n",
              "    <tr>\n",
              "      <th>3</th>\n",
              "      <td>483</td>\n",
              "      <td>gate_40</td>\n",
              "      <td>1</td>\n",
              "      <td>0</td>\n",
              "      <td>0</td>\n",
              "    </tr>\n",
              "    <tr>\n",
              "      <th>4</th>\n",
              "      <td>488</td>\n",
              "      <td>gate_40</td>\n",
              "      <td>179</td>\n",
              "      <td>1</td>\n",
              "      <td>1</td>\n",
              "    </tr>\n",
              "    <tr>\n",
              "      <th>...</th>\n",
              "      <td>...</td>\n",
              "      <td>...</td>\n",
              "      <td>...</td>\n",
              "      <td>...</td>\n",
              "      <td>...</td>\n",
              "    </tr>\n",
              "    <tr>\n",
              "      <th>90184</th>\n",
              "      <td>9999441</td>\n",
              "      <td>gate_40</td>\n",
              "      <td>97</td>\n",
              "      <td>1</td>\n",
              "      <td>0</td>\n",
              "    </tr>\n",
              "    <tr>\n",
              "      <th>90185</th>\n",
              "      <td>9999479</td>\n",
              "      <td>gate_40</td>\n",
              "      <td>30</td>\n",
              "      <td>0</td>\n",
              "      <td>0</td>\n",
              "    </tr>\n",
              "    <tr>\n",
              "      <th>90186</th>\n",
              "      <td>9999710</td>\n",
              "      <td>gate_30</td>\n",
              "      <td>28</td>\n",
              "      <td>1</td>\n",
              "      <td>0</td>\n",
              "    </tr>\n",
              "    <tr>\n",
              "      <th>90187</th>\n",
              "      <td>9999768</td>\n",
              "      <td>gate_40</td>\n",
              "      <td>51</td>\n",
              "      <td>1</td>\n",
              "      <td>0</td>\n",
              "    </tr>\n",
              "    <tr>\n",
              "      <th>90188</th>\n",
              "      <td>9999861</td>\n",
              "      <td>gate_40</td>\n",
              "      <td>16</td>\n",
              "      <td>0</td>\n",
              "      <td>0</td>\n",
              "    </tr>\n",
              "  </tbody>\n",
              "</table>\n",
              "<p>90189 rows × 5 columns</p>\n",
              "</div>\n",
              "      <button class=\"colab-df-convert\" onclick=\"convertToInteractive('df-e4fbd328-4070-422d-8128-d1972ec23319')\"\n",
              "              title=\"Convert this dataframe to an interactive table.\"\n",
              "              style=\"display:none;\">\n",
              "        \n",
              "  <svg xmlns=\"http://www.w3.org/2000/svg\" height=\"24px\"viewBox=\"0 0 24 24\"\n",
              "       width=\"24px\">\n",
              "    <path d=\"M0 0h24v24H0V0z\" fill=\"none\"/>\n",
              "    <path d=\"M18.56 5.44l.94 2.06.94-2.06 2.06-.94-2.06-.94-.94-2.06-.94 2.06-2.06.94zm-11 1L8.5 8.5l.94-2.06 2.06-.94-2.06-.94L8.5 2.5l-.94 2.06-2.06.94zm10 10l.94 2.06.94-2.06 2.06-.94-2.06-.94-.94-2.06-.94 2.06-2.06.94z\"/><path d=\"M17.41 7.96l-1.37-1.37c-.4-.4-.92-.59-1.43-.59-.52 0-1.04.2-1.43.59L10.3 9.45l-7.72 7.72c-.78.78-.78 2.05 0 2.83L4 21.41c.39.39.9.59 1.41.59.51 0 1.02-.2 1.41-.59l7.78-7.78 2.81-2.81c.8-.78.8-2.07 0-2.86zM5.41 20L4 18.59l7.72-7.72 1.47 1.35L5.41 20z\"/>\n",
              "  </svg>\n",
              "      </button>\n",
              "      \n",
              "  <style>\n",
              "    .colab-df-container {\n",
              "      display:flex;\n",
              "      flex-wrap:wrap;\n",
              "      gap: 12px;\n",
              "    }\n",
              "\n",
              "    .colab-df-convert {\n",
              "      background-color: #E8F0FE;\n",
              "      border: none;\n",
              "      border-radius: 50%;\n",
              "      cursor: pointer;\n",
              "      display: none;\n",
              "      fill: #1967D2;\n",
              "      height: 32px;\n",
              "      padding: 0 0 0 0;\n",
              "      width: 32px;\n",
              "    }\n",
              "\n",
              "    .colab-df-convert:hover {\n",
              "      background-color: #E2EBFA;\n",
              "      box-shadow: 0px 1px 2px rgba(60, 64, 67, 0.3), 0px 1px 3px 1px rgba(60, 64, 67, 0.15);\n",
              "      fill: #174EA6;\n",
              "    }\n",
              "\n",
              "    [theme=dark] .colab-df-convert {\n",
              "      background-color: #3B4455;\n",
              "      fill: #D2E3FC;\n",
              "    }\n",
              "\n",
              "    [theme=dark] .colab-df-convert:hover {\n",
              "      background-color: #434B5C;\n",
              "      box-shadow: 0px 1px 3px 1px rgba(0, 0, 0, 0.15);\n",
              "      filter: drop-shadow(0px 1px 2px rgba(0, 0, 0, 0.3));\n",
              "      fill: #FFFFFF;\n",
              "    }\n",
              "  </style>\n",
              "\n",
              "      <script>\n",
              "        const buttonEl =\n",
              "          document.querySelector('#df-e4fbd328-4070-422d-8128-d1972ec23319 button.colab-df-convert');\n",
              "        buttonEl.style.display =\n",
              "          google.colab.kernel.accessAllowed ? 'block' : 'none';\n",
              "\n",
              "        async function convertToInteractive(key) {\n",
              "          const element = document.querySelector('#df-e4fbd328-4070-422d-8128-d1972ec23319');\n",
              "          const dataTable =\n",
              "            await google.colab.kernel.invokeFunction('convertToInteractive',\n",
              "                                                     [key], {});\n",
              "          if (!dataTable) return;\n",
              "\n",
              "          const docLinkHtml = 'Like what you see? Visit the ' +\n",
              "            '<a target=\"_blank\" href=https://colab.research.google.com/notebooks/data_table.ipynb>data table notebook</a>'\n",
              "            + ' to learn more about interactive tables.';\n",
              "          element.innerHTML = '';\n",
              "          dataTable['output_type'] = 'display_data';\n",
              "          await google.colab.output.renderOutput(dataTable, element);\n",
              "          const docLink = document.createElement('div');\n",
              "          docLink.innerHTML = docLinkHtml;\n",
              "          element.appendChild(docLink);\n",
              "        }\n",
              "      </script>\n",
              "    </div>\n",
              "  </div>\n",
              "  "
            ]
          },
          "metadata": {},
          "execution_count": 20
        }
      ]
    },
    {
      "cell_type": "markdown",
      "source": [
        "## 4b) Посчитайте среднее по двум группам для каждой из переменных sum_gamerounds, retention_1, retention_7. Вес - 0.5"
      ],
      "metadata": {
        "id": "3Mcc4M1xR1ES"
      }
    },
    {
      "cell_type": "code",
      "source": [
        "mn1_30 = round(cc[cc['version'] == 'gate_30']['retention_1'].mean(),3)\n",
        "mn1_40 = round(cc[cc['version'] == 'gate_40']['retention_1'].mean(),3)\n",
        "\n",
        "mn7_30 = round(cc[cc['version'] == 'gate_30']['retention_7'].mean(),3)\n",
        "mn7_40 = round(cc[cc['version'] == 'gate_40']['retention_7'].mean(),3)\n",
        "\n",
        "mn_sg_30 = round(cc[cc['version'] == 'gate_30']['sum_gamerounds'].mean(),3)\n",
        "mn_sg_40 = round(cc[cc['version'] == 'gate_40']['sum_gamerounds'].mean(),3)\n",
        "\n",
        "print(' средние по retention_1 ', mn1_30,'   ', mn1_40,'\\n',\n",
        "      'средние по retention_7 ', mn7_30,'    ', mn7_40,'\\n',\n",
        "      'средние по gamerounds ', mn_sg_30, '   ', mn_sg_40)"
      ],
      "metadata": {
        "id": "6yY3vUkISSUs",
        "colab": {
          "base_uri": "https://localhost:8080/"
        },
        "outputId": "f8e97a1b-7f73-4420-f3ac-fcfff47c69fe"
      },
      "execution_count": null,
      "outputs": [
        {
          "output_type": "stream",
          "name": "stdout",
          "text": [
            " средние по retention_1  0.448     0.442 \n",
            " средние по retention_7  0.19      0.182 \n",
            " средние по gamerounds  52.456     51.299\n"
          ]
        }
      ]
    },
    {
      "cell_type": "markdown",
      "source": [
        "## 4с) Посчитайте двухвыборочный t-test для каждой из переменных выше. Вес - 0.5"
      ],
      "metadata": {
        "id": "w0Z8IcaRSUhk"
      }
    },
    {
      "cell_type": "code",
      "source": [
        "# для переменной retention_1 в играх с gate_30 и с gate_40\n",
        "# H0: различия в среднем ретеншне 1 дня при gate_30 и gate_40 незначимы\n",
        "# H1: различия в среднем ретеншне 1 дня при gate_30 и gate_40 значимы\n",
        "gate30 = cc[cc['version'] == 'gate_30']['retention_1']\n",
        "gate40 = cc[cc['version'] == 'gate_40']['retention_1']\n",
        "\n",
        "result1_2samp = stats.ttest_ind(a=gate30, b=gate40, equal_var=False)\n",
        "result1_2samp"
      ],
      "metadata": {
        "id": "q5M1PE0fSelS",
        "colab": {
          "base_uri": "https://localhost:8080/"
        },
        "outputId": "502f7e44-2966-4176-90b9-eed280d58a3b"
      },
      "execution_count": null,
      "outputs": [
        {
          "output_type": "execute_result",
          "data": {
            "text/plain": [
              "Ttest_indResult(statistic=1.7840774867039824, pvalue=0.07441443713953834)"
            ]
          },
          "metadata": {},
          "execution_count": 22
        }
      ]
    },
    {
      "cell_type": "code",
      "source": [
        "# для переменной retention_7 в играх с gate_30 и с gate_40\n",
        "# H0: различия в среднем ретеншне 7 дня при gate_30 и gate_40 незначимы\n",
        "# H1: различия в среднем ретеншне 7 дня при gate_30 и gate_40 значимы\n",
        "gate30_ret7 = cc[cc['version'] == 'gate_30']['retention_7']\n",
        "gate40_ret7 = cc[cc['version'] == 'gate_40']['retention_7']\n",
        "\n",
        "result2_2samp = stats.ttest_ind(a=gate30_ret7, b=gate40_ret7, equal_var=False)\n",
        "result2_2samp"
      ],
      "metadata": {
        "id": "QlwNgY8mz6v5",
        "colab": {
          "base_uri": "https://localhost:8080/"
        },
        "outputId": "e2bac624-39dd-47d2-f970-be325a0b5bd0"
      },
      "execution_count": null,
      "outputs": [
        {
          "output_type": "execute_result",
          "data": {
            "text/plain": [
              "Ttest_indResult(statistic=3.164028946774232, pvalue=0.001556530181006652)"
            ]
          },
          "metadata": {},
          "execution_count": 23
        }
      ]
    },
    {
      "cell_type": "code",
      "source": [
        "# для переменной sum_gamerounds в играх с gate_30 и с gate_40\n",
        "# H0: различия в количестве проведенным польз-лями раундов игры при gate_30 и gate_40 незначимы\n",
        "# H1: различия в количестве польз-лями раундов игры при gate_30 и gate_40 значимы\n",
        "gate30_sg = cc[cc['version'] == 'gate_30']['sum_gamerounds']\n",
        "gate40_sg = cc[cc['version'] == 'gate_40']['sum_gamerounds']\n",
        "\n",
        "result3_2samp = stats.ttest_ind(a=gate30_sg, b=gate40_sg, equal_var=False)\n",
        "result3_2samp"
      ],
      "metadata": {
        "id": "8qJ9b8DQ0HhT",
        "colab": {
          "base_uri": "https://localhost:8080/"
        },
        "outputId": "fced640b-9b0e-4228-809a-e2e9fc9533df"
      },
      "execution_count": null,
      "outputs": [
        {
          "output_type": "execute_result",
          "data": {
            "text/plain": [
              "Ttest_indResult(statistic=0.8854374331270672, pvalue=0.37592438409326223)"
            ]
          },
          "metadata": {},
          "execution_count": 24
        }
      ]
    },
    {
      "cell_type": "markdown",
      "source": [
        "## 4d) Посчитайте p-value для полученных значений t-теста. Как новое изменение влияет на пользователей? Вес - 0.5"
      ],
      "metadata": {
        "id": "6aCdhAV8SgQt"
      }
    },
    {
      "cell_type": "code",
      "source": [
        "# Проверим, значимы ли различия в средних, выбрав уровень значимости 5%. \n",
        "\n",
        "if result1_2samp.pvalue > 0.05:\n",
        "  print('Не удается отклонить H0')\n",
        "else:\n",
        "  print('Отклонить H0')\n",
        "\n",
        "# Изменения в значении ретеншна 1го дня с введением изменений в процессе игры незначимы с вер-ю 95%. \n",
        "# Т.е. здесь мы не можем с вероятностью 95% утверждать, что изменения в ретеншне первого дня вызваны \n",
        "# изменениями в процессе игры со стороны разработчиков. "
      ],
      "metadata": {
        "id": "PrrnBJ6rSuUL",
        "colab": {
          "base_uri": "https://localhost:8080/"
        },
        "outputId": "46a46e43-8ae9-450b-fb78-0faa0fe3460b"
      },
      "execution_count": null,
      "outputs": [
        {
          "output_type": "stream",
          "name": "stdout",
          "text": [
            "Не удается отклонить H0\n"
          ]
        }
      ]
    },
    {
      "cell_type": "code",
      "source": [
        "if result2_2samp.pvalue > 0.05:\n",
        "  print('Не удается отклонить H0')\n",
        "else:\n",
        "  print('Отклонить H0')\n",
        "# Мы можем утверждать с вероятностью 95%, что изменения в ретеншне седьмого дня (причем в меньшую сторону;( ) вызваны\n",
        "# изменениями в процессе игры со стороны разработчиков. "
      ],
      "metadata": {
        "id": "WVi0vO4D26rt",
        "colab": {
          "base_uri": "https://localhost:8080/"
        },
        "outputId": "78623ac2-ca4e-4e8d-98c8-b042592ccd38"
      },
      "execution_count": null,
      "outputs": [
        {
          "output_type": "stream",
          "name": "stdout",
          "text": [
            "Отклонить H0\n"
          ]
        }
      ]
    },
    {
      "cell_type": "code",
      "source": [
        "if result3_2samp.pvalue > 0.05:\n",
        "  print('Не удается отклонить H0')\n",
        "else:\n",
        "  print('Отклонить H0')\n",
        "# Изменения в количестве игровых раундов с введением изменений в процессе игры незначимы с вер-ю 95%. "
      ],
      "metadata": {
        "id": "9I_DYV0R29MT",
        "colab": {
          "base_uri": "https://localhost:8080/"
        },
        "outputId": "81e9904f-08e9-4a6e-8d59-4367bbe6cff8"
      },
      "execution_count": null,
      "outputs": [
        {
          "output_type": "stream",
          "name": "stdout",
          "text": [
            "Не удается отклонить H0\n"
          ]
        }
      ]
    },
    {
      "cell_type": "markdown",
      "source": [
        "# **Непараметрические критерии**"
      ],
      "metadata": {
        "id": "z1W16JpCTFai"
      }
    },
    {
      "cell_type": "markdown",
      "source": [
        "# Задание 5: Критерий согласия хи-квадрат"
      ],
      "metadata": {
        "id": "95tPCMJWRRgd"
      }
    },
    {
      "cell_type": "markdown",
      "source": [
        "Исследуем предпочтения еды у разных национальностей. Скачайте данные Food_Preference.csv. В них приведены результаты опроса некоторой выборки людей о их вкусовых предпочтениях\n",
        "\n",
        "Описание данных:\n",
        "- Timestamp: время опроса\n",
        "- Participant_ID: id участиника\n",
        "- Gender: пол\n",
        "- Nationality: национальность\n",
        "- Age: возраст\n",
        "- Food: предпочтение по типу еды\n",
        "- Juice: предпочтение по напитакам\n",
        "- Dessert: предпочтение по дессертам"
      ],
      "metadata": {
        "id": "9jbPiRqf_Hvk"
      }
    },
    {
      "cell_type": "code",
      "source": [
        "fp = pd.read_csv('/content/drive/MyDrive/Дата сосайенс/Food_Preference.csv')\n",
        "fp"
      ],
      "metadata": {
        "id": "a6RIEd0S-qgR",
        "colab": {
          "base_uri": "https://localhost:8080/",
          "height": 419
        },
        "outputId": "12dcc19d-917d-4553-b471-65e9b9aec892"
      },
      "execution_count": null,
      "outputs": [
        {
          "output_type": "execute_result",
          "data": {
            "text/plain": [
              "                        Timestamp Participant_ID  Gender Nationality  Age  \\\n",
              "0     2019/05/07 2:59:13 PM GMT+8         FPS001    Male      Indian   24   \n",
              "1     2019/05/07 2:59:45 PM GMT+8         FPS002  Female      Indian   22   \n",
              "2     2019/05/07 3:00:05 PM GMT+8         FPS003    Male      Indian   31   \n",
              "3     2019/05/07 3:00:11 PM GMT+8         FPS004  Female      Indian   25   \n",
              "4     2019/05/07 3:02:50 PM GMT+8         FPS005    Male      Indian   27   \n",
              "..                            ...            ...     ...         ...  ...   \n",
              "283   2019/05/10 9:24:00 AM GMT+8         FPS284    Male      Indian   27   \n",
              "284   2019/05/10 9:32:54 AM GMT+8         FPS285    Male      Indian   24   \n",
              "285  2019/05/10 12:09:17 PM GMT+8         FPS286    Male      Indian   25   \n",
              "286  2019/05/10 12:52:17 PM GMT+8         FPS287    Male      Indian   27   \n",
              "287  2019/05/10 12:55:42 PM GMT+8         FPS288    Male      Indian   27   \n",
              "\n",
              "                 Food              Juice Dessert  \n",
              "0    Traditional food        Fresh Juice   Maybe  \n",
              "1        Western Food  Carbonated drinks     Yes  \n",
              "2        Western Food        Fresh Juice   Maybe  \n",
              "3    Traditional food        Fresh Juice   Maybe  \n",
              "4    Traditional food        Fresh Juice   Maybe  \n",
              "..                ...                ...     ...  \n",
              "283      Western Food        Fresh Juice     Yes  \n",
              "284  Traditional food        Fresh Juice     Yes  \n",
              "285  Traditional food        Fresh Juice     Yes  \n",
              "286  Traditional food        Fresh Juice     Yes  \n",
              "287  Traditional food        Fresh Juice      No  \n",
              "\n",
              "[288 rows x 8 columns]"
            ],
            "text/html": [
              "\n",
              "  <div id=\"df-3c54b577-695e-4637-b4d8-2764f604adcf\">\n",
              "    <div class=\"colab-df-container\">\n",
              "      <div>\n",
              "<style scoped>\n",
              "    .dataframe tbody tr th:only-of-type {\n",
              "        vertical-align: middle;\n",
              "    }\n",
              "\n",
              "    .dataframe tbody tr th {\n",
              "        vertical-align: top;\n",
              "    }\n",
              "\n",
              "    .dataframe thead th {\n",
              "        text-align: right;\n",
              "    }\n",
              "</style>\n",
              "<table border=\"1\" class=\"dataframe\">\n",
              "  <thead>\n",
              "    <tr style=\"text-align: right;\">\n",
              "      <th></th>\n",
              "      <th>Timestamp</th>\n",
              "      <th>Participant_ID</th>\n",
              "      <th>Gender</th>\n",
              "      <th>Nationality</th>\n",
              "      <th>Age</th>\n",
              "      <th>Food</th>\n",
              "      <th>Juice</th>\n",
              "      <th>Dessert</th>\n",
              "    </tr>\n",
              "  </thead>\n",
              "  <tbody>\n",
              "    <tr>\n",
              "      <th>0</th>\n",
              "      <td>2019/05/07 2:59:13 PM GMT+8</td>\n",
              "      <td>FPS001</td>\n",
              "      <td>Male</td>\n",
              "      <td>Indian</td>\n",
              "      <td>24</td>\n",
              "      <td>Traditional food</td>\n",
              "      <td>Fresh Juice</td>\n",
              "      <td>Maybe</td>\n",
              "    </tr>\n",
              "    <tr>\n",
              "      <th>1</th>\n",
              "      <td>2019/05/07 2:59:45 PM GMT+8</td>\n",
              "      <td>FPS002</td>\n",
              "      <td>Female</td>\n",
              "      <td>Indian</td>\n",
              "      <td>22</td>\n",
              "      <td>Western Food</td>\n",
              "      <td>Carbonated drinks</td>\n",
              "      <td>Yes</td>\n",
              "    </tr>\n",
              "    <tr>\n",
              "      <th>2</th>\n",
              "      <td>2019/05/07 3:00:05 PM GMT+8</td>\n",
              "      <td>FPS003</td>\n",
              "      <td>Male</td>\n",
              "      <td>Indian</td>\n",
              "      <td>31</td>\n",
              "      <td>Western Food</td>\n",
              "      <td>Fresh Juice</td>\n",
              "      <td>Maybe</td>\n",
              "    </tr>\n",
              "    <tr>\n",
              "      <th>3</th>\n",
              "      <td>2019/05/07 3:00:11 PM GMT+8</td>\n",
              "      <td>FPS004</td>\n",
              "      <td>Female</td>\n",
              "      <td>Indian</td>\n",
              "      <td>25</td>\n",
              "      <td>Traditional food</td>\n",
              "      <td>Fresh Juice</td>\n",
              "      <td>Maybe</td>\n",
              "    </tr>\n",
              "    <tr>\n",
              "      <th>4</th>\n",
              "      <td>2019/05/07 3:02:50 PM GMT+8</td>\n",
              "      <td>FPS005</td>\n",
              "      <td>Male</td>\n",
              "      <td>Indian</td>\n",
              "      <td>27</td>\n",
              "      <td>Traditional food</td>\n",
              "      <td>Fresh Juice</td>\n",
              "      <td>Maybe</td>\n",
              "    </tr>\n",
              "    <tr>\n",
              "      <th>...</th>\n",
              "      <td>...</td>\n",
              "      <td>...</td>\n",
              "      <td>...</td>\n",
              "      <td>...</td>\n",
              "      <td>...</td>\n",
              "      <td>...</td>\n",
              "      <td>...</td>\n",
              "      <td>...</td>\n",
              "    </tr>\n",
              "    <tr>\n",
              "      <th>283</th>\n",
              "      <td>2019/05/10 9:24:00 AM GMT+8</td>\n",
              "      <td>FPS284</td>\n",
              "      <td>Male</td>\n",
              "      <td>Indian</td>\n",
              "      <td>27</td>\n",
              "      <td>Western Food</td>\n",
              "      <td>Fresh Juice</td>\n",
              "      <td>Yes</td>\n",
              "    </tr>\n",
              "    <tr>\n",
              "      <th>284</th>\n",
              "      <td>2019/05/10 9:32:54 AM GMT+8</td>\n",
              "      <td>FPS285</td>\n",
              "      <td>Male</td>\n",
              "      <td>Indian</td>\n",
              "      <td>24</td>\n",
              "      <td>Traditional food</td>\n",
              "      <td>Fresh Juice</td>\n",
              "      <td>Yes</td>\n",
              "    </tr>\n",
              "    <tr>\n",
              "      <th>285</th>\n",
              "      <td>2019/05/10 12:09:17 PM GMT+8</td>\n",
              "      <td>FPS286</td>\n",
              "      <td>Male</td>\n",
              "      <td>Indian</td>\n",
              "      <td>25</td>\n",
              "      <td>Traditional food</td>\n",
              "      <td>Fresh Juice</td>\n",
              "      <td>Yes</td>\n",
              "    </tr>\n",
              "    <tr>\n",
              "      <th>286</th>\n",
              "      <td>2019/05/10 12:52:17 PM GMT+8</td>\n",
              "      <td>FPS287</td>\n",
              "      <td>Male</td>\n",
              "      <td>Indian</td>\n",
              "      <td>27</td>\n",
              "      <td>Traditional food</td>\n",
              "      <td>Fresh Juice</td>\n",
              "      <td>Yes</td>\n",
              "    </tr>\n",
              "    <tr>\n",
              "      <th>287</th>\n",
              "      <td>2019/05/10 12:55:42 PM GMT+8</td>\n",
              "      <td>FPS288</td>\n",
              "      <td>Male</td>\n",
              "      <td>Indian</td>\n",
              "      <td>27</td>\n",
              "      <td>Traditional food</td>\n",
              "      <td>Fresh Juice</td>\n",
              "      <td>No</td>\n",
              "    </tr>\n",
              "  </tbody>\n",
              "</table>\n",
              "<p>288 rows × 8 columns</p>\n",
              "</div>\n",
              "      <button class=\"colab-df-convert\" onclick=\"convertToInteractive('df-3c54b577-695e-4637-b4d8-2764f604adcf')\"\n",
              "              title=\"Convert this dataframe to an interactive table.\"\n",
              "              style=\"display:none;\">\n",
              "        \n",
              "  <svg xmlns=\"http://www.w3.org/2000/svg\" height=\"24px\"viewBox=\"0 0 24 24\"\n",
              "       width=\"24px\">\n",
              "    <path d=\"M0 0h24v24H0V0z\" fill=\"none\"/>\n",
              "    <path d=\"M18.56 5.44l.94 2.06.94-2.06 2.06-.94-2.06-.94-.94-2.06-.94 2.06-2.06.94zm-11 1L8.5 8.5l.94-2.06 2.06-.94-2.06-.94L8.5 2.5l-.94 2.06-2.06.94zm10 10l.94 2.06.94-2.06 2.06-.94-2.06-.94-.94-2.06-.94 2.06-2.06.94z\"/><path d=\"M17.41 7.96l-1.37-1.37c-.4-.4-.92-.59-1.43-.59-.52 0-1.04.2-1.43.59L10.3 9.45l-7.72 7.72c-.78.78-.78 2.05 0 2.83L4 21.41c.39.39.9.59 1.41.59.51 0 1.02-.2 1.41-.59l7.78-7.78 2.81-2.81c.8-.78.8-2.07 0-2.86zM5.41 20L4 18.59l7.72-7.72 1.47 1.35L5.41 20z\"/>\n",
              "  </svg>\n",
              "      </button>\n",
              "      \n",
              "  <style>\n",
              "    .colab-df-container {\n",
              "      display:flex;\n",
              "      flex-wrap:wrap;\n",
              "      gap: 12px;\n",
              "    }\n",
              "\n",
              "    .colab-df-convert {\n",
              "      background-color: #E8F0FE;\n",
              "      border: none;\n",
              "      border-radius: 50%;\n",
              "      cursor: pointer;\n",
              "      display: none;\n",
              "      fill: #1967D2;\n",
              "      height: 32px;\n",
              "      padding: 0 0 0 0;\n",
              "      width: 32px;\n",
              "    }\n",
              "\n",
              "    .colab-df-convert:hover {\n",
              "      background-color: #E2EBFA;\n",
              "      box-shadow: 0px 1px 2px rgba(60, 64, 67, 0.3), 0px 1px 3px 1px rgba(60, 64, 67, 0.15);\n",
              "      fill: #174EA6;\n",
              "    }\n",
              "\n",
              "    [theme=dark] .colab-df-convert {\n",
              "      background-color: #3B4455;\n",
              "      fill: #D2E3FC;\n",
              "    }\n",
              "\n",
              "    [theme=dark] .colab-df-convert:hover {\n",
              "      background-color: #434B5C;\n",
              "      box-shadow: 0px 1px 3px 1px rgba(0, 0, 0, 0.15);\n",
              "      filter: drop-shadow(0px 1px 2px rgba(0, 0, 0, 0.3));\n",
              "      fill: #FFFFFF;\n",
              "    }\n",
              "  </style>\n",
              "\n",
              "      <script>\n",
              "        const buttonEl =\n",
              "          document.querySelector('#df-3c54b577-695e-4637-b4d8-2764f604adcf button.colab-df-convert');\n",
              "        buttonEl.style.display =\n",
              "          google.colab.kernel.accessAllowed ? 'block' : 'none';\n",
              "\n",
              "        async function convertToInteractive(key) {\n",
              "          const element = document.querySelector('#df-3c54b577-695e-4637-b4d8-2764f604adcf');\n",
              "          const dataTable =\n",
              "            await google.colab.kernel.invokeFunction('convertToInteractive',\n",
              "                                                     [key], {});\n",
              "          if (!dataTable) return;\n",
              "\n",
              "          const docLinkHtml = 'Like what you see? Visit the ' +\n",
              "            '<a target=\"_blank\" href=https://colab.research.google.com/notebooks/data_table.ipynb>data table notebook</a>'\n",
              "            + ' to learn more about interactive tables.';\n",
              "          element.innerHTML = '';\n",
              "          dataTable['output_type'] = 'display_data';\n",
              "          await google.colab.output.renderOutput(dataTable, element);\n",
              "          const docLink = document.createElement('div');\n",
              "          docLink.innerHTML = docLinkHtml;\n",
              "          element.appendChild(docLink);\n",
              "        }\n",
              "      </script>\n",
              "    </div>\n",
              "  </div>\n",
              "  "
            ]
          },
          "metadata": {},
          "execution_count": 28
        }
      ]
    },
    {
      "cell_type": "markdown",
      "source": [
        "## 5a) Посчитайте, какие есть национальности и в каком количестве. А также какие есть возможные варианты предпочтений в еде. Вес - 0.5 балла"
      ],
      "metadata": {
        "id": "tfUVOGGRWSuG"
      }
    },
    {
      "cell_type": "code",
      "source": [
        "sorted(fp['Nationality'].unique())"
      ],
      "metadata": {
        "id": "CHOE1E8x-7v1",
        "colab": {
          "base_uri": "https://localhost:8080/"
        },
        "outputId": "72b78403-4b81-4acd-ff21-45e7317e28e9"
      },
      "execution_count": null,
      "outputs": [
        {
          "output_type": "execute_result",
          "data": {
            "text/plain": [
              "['Algerian ',\n",
              " 'Canadian',\n",
              " 'China',\n",
              " 'Indian',\n",
              " 'Indonesain',\n",
              " 'Indonesia',\n",
              " 'Indonesian',\n",
              " 'Indonesian ',\n",
              " 'Japan',\n",
              " 'Korean ',\n",
              " 'MALAYSIAN',\n",
              " 'MY',\n",
              " 'Malaysia',\n",
              " 'Malaysia ',\n",
              " 'Malaysian',\n",
              " 'Malaysian ',\n",
              " 'Maldivian',\n",
              " 'Maldivian ',\n",
              " 'Mauritian',\n",
              " 'Muslim',\n",
              " 'Nigerian ',\n",
              " 'Pakistan',\n",
              " 'Pakistani',\n",
              " 'Pakistani ',\n",
              " 'Seychellois',\n",
              " 'Tanzanian',\n",
              " 'Yemen']"
            ]
          },
          "metadata": {},
          "execution_count": 29
        }
      ]
    },
    {
      "cell_type": "code",
      "source": [
        "fp['Nationality'] = fp['Nationality'].apply(lambda x: x.strip())\n",
        "fp['Nationality'] = fp['Nationality'].apply(lambda x: 'Malaysian' if x == 'MY' or\n",
        "                                            x == 'MALAYSIAN' or x == 'Malaysia' else x)\n",
        "fp['Nationality'] = fp['Nationality'].apply(lambda x: 'Indonesian' if x == 'Indonesain' or\n",
        "                                            x == 'Indonesia' else x)\n",
        "fp['Nationality'] = fp['Nationality'].apply(lambda x: 'Pakistani' if x ==  'Pakistan' else x)"
      ],
      "metadata": {
        "id": "YYx7pWUYA8r5"
      },
      "execution_count": null,
      "outputs": []
    },
    {
      "cell_type": "code",
      "source": [
        "# Уникальные национальности есть:\n",
        "sorted(fp['Nationality'].unique())"
      ],
      "metadata": {
        "id": "j5qMhhysAGSg",
        "colab": {
          "base_uri": "https://localhost:8080/"
        },
        "outputId": "0d955a06-bbac-4822-c40c-47df547f0afd"
      },
      "execution_count": null,
      "outputs": [
        {
          "output_type": "execute_result",
          "data": {
            "text/plain": [
              "['Algerian',\n",
              " 'Canadian',\n",
              " 'China',\n",
              " 'Indian',\n",
              " 'Indonesian',\n",
              " 'Japan',\n",
              " 'Korean',\n",
              " 'Malaysian',\n",
              " 'Maldivian',\n",
              " 'Mauritian',\n",
              " 'Muslim',\n",
              " 'Nigerian',\n",
              " 'Pakistani',\n",
              " 'Seychellois',\n",
              " 'Tanzanian',\n",
              " 'Yemen']"
            ]
          },
          "metadata": {},
          "execution_count": 31
        }
      ]
    },
    {
      "cell_type": "code",
      "source": [
        "fp.groupby('Nationality', as_index= False)['Nationality'].value_counts() #Количество людей разных нац-тей в выборке"
      ],
      "metadata": {
        "colab": {
          "base_uri": "https://localhost:8080/",
          "height": 545
        },
        "id": "WI5qAi0QDx8Q",
        "outputId": "297848be-382d-4672-b059-781fb8783ba0"
      },
      "execution_count": null,
      "outputs": [
        {
          "output_type": "execute_result",
          "data": {
            "text/plain": [
              "    Nationality  count\n",
              "0      Algerian      1\n",
              "1      Canadian      1\n",
              "2         China      1\n",
              "3        Indian    241\n",
              "4    Indonesian     10\n",
              "5         Japan      2\n",
              "6        Korean      1\n",
              "7     Malaysian     16\n",
              "8     Maldivian      3\n",
              "9     Mauritian      1\n",
              "10       Muslim      1\n",
              "11     Nigerian      1\n",
              "12    Pakistani      6\n",
              "13  Seychellois      1\n",
              "14    Tanzanian      1\n",
              "15        Yemen      1"
            ],
            "text/html": [
              "\n",
              "  <div id=\"df-57fe490e-82b5-4642-beae-1559be34c672\">\n",
              "    <div class=\"colab-df-container\">\n",
              "      <div>\n",
              "<style scoped>\n",
              "    .dataframe tbody tr th:only-of-type {\n",
              "        vertical-align: middle;\n",
              "    }\n",
              "\n",
              "    .dataframe tbody tr th {\n",
              "        vertical-align: top;\n",
              "    }\n",
              "\n",
              "    .dataframe thead th {\n",
              "        text-align: right;\n",
              "    }\n",
              "</style>\n",
              "<table border=\"1\" class=\"dataframe\">\n",
              "  <thead>\n",
              "    <tr style=\"text-align: right;\">\n",
              "      <th></th>\n",
              "      <th>Nationality</th>\n",
              "      <th>count</th>\n",
              "    </tr>\n",
              "  </thead>\n",
              "  <tbody>\n",
              "    <tr>\n",
              "      <th>0</th>\n",
              "      <td>Algerian</td>\n",
              "      <td>1</td>\n",
              "    </tr>\n",
              "    <tr>\n",
              "      <th>1</th>\n",
              "      <td>Canadian</td>\n",
              "      <td>1</td>\n",
              "    </tr>\n",
              "    <tr>\n",
              "      <th>2</th>\n",
              "      <td>China</td>\n",
              "      <td>1</td>\n",
              "    </tr>\n",
              "    <tr>\n",
              "      <th>3</th>\n",
              "      <td>Indian</td>\n",
              "      <td>241</td>\n",
              "    </tr>\n",
              "    <tr>\n",
              "      <th>4</th>\n",
              "      <td>Indonesian</td>\n",
              "      <td>10</td>\n",
              "    </tr>\n",
              "    <tr>\n",
              "      <th>5</th>\n",
              "      <td>Japan</td>\n",
              "      <td>2</td>\n",
              "    </tr>\n",
              "    <tr>\n",
              "      <th>6</th>\n",
              "      <td>Korean</td>\n",
              "      <td>1</td>\n",
              "    </tr>\n",
              "    <tr>\n",
              "      <th>7</th>\n",
              "      <td>Malaysian</td>\n",
              "      <td>16</td>\n",
              "    </tr>\n",
              "    <tr>\n",
              "      <th>8</th>\n",
              "      <td>Maldivian</td>\n",
              "      <td>3</td>\n",
              "    </tr>\n",
              "    <tr>\n",
              "      <th>9</th>\n",
              "      <td>Mauritian</td>\n",
              "      <td>1</td>\n",
              "    </tr>\n",
              "    <tr>\n",
              "      <th>10</th>\n",
              "      <td>Muslim</td>\n",
              "      <td>1</td>\n",
              "    </tr>\n",
              "    <tr>\n",
              "      <th>11</th>\n",
              "      <td>Nigerian</td>\n",
              "      <td>1</td>\n",
              "    </tr>\n",
              "    <tr>\n",
              "      <th>12</th>\n",
              "      <td>Pakistani</td>\n",
              "      <td>6</td>\n",
              "    </tr>\n",
              "    <tr>\n",
              "      <th>13</th>\n",
              "      <td>Seychellois</td>\n",
              "      <td>1</td>\n",
              "    </tr>\n",
              "    <tr>\n",
              "      <th>14</th>\n",
              "      <td>Tanzanian</td>\n",
              "      <td>1</td>\n",
              "    </tr>\n",
              "    <tr>\n",
              "      <th>15</th>\n",
              "      <td>Yemen</td>\n",
              "      <td>1</td>\n",
              "    </tr>\n",
              "  </tbody>\n",
              "</table>\n",
              "</div>\n",
              "      <button class=\"colab-df-convert\" onclick=\"convertToInteractive('df-57fe490e-82b5-4642-beae-1559be34c672')\"\n",
              "              title=\"Convert this dataframe to an interactive table.\"\n",
              "              style=\"display:none;\">\n",
              "        \n",
              "  <svg xmlns=\"http://www.w3.org/2000/svg\" height=\"24px\"viewBox=\"0 0 24 24\"\n",
              "       width=\"24px\">\n",
              "    <path d=\"M0 0h24v24H0V0z\" fill=\"none\"/>\n",
              "    <path d=\"M18.56 5.44l.94 2.06.94-2.06 2.06-.94-2.06-.94-.94-2.06-.94 2.06-2.06.94zm-11 1L8.5 8.5l.94-2.06 2.06-.94-2.06-.94L8.5 2.5l-.94 2.06-2.06.94zm10 10l.94 2.06.94-2.06 2.06-.94-2.06-.94-.94-2.06-.94 2.06-2.06.94z\"/><path d=\"M17.41 7.96l-1.37-1.37c-.4-.4-.92-.59-1.43-.59-.52 0-1.04.2-1.43.59L10.3 9.45l-7.72 7.72c-.78.78-.78 2.05 0 2.83L4 21.41c.39.39.9.59 1.41.59.51 0 1.02-.2 1.41-.59l7.78-7.78 2.81-2.81c.8-.78.8-2.07 0-2.86zM5.41 20L4 18.59l7.72-7.72 1.47 1.35L5.41 20z\"/>\n",
              "  </svg>\n",
              "      </button>\n",
              "      \n",
              "  <style>\n",
              "    .colab-df-container {\n",
              "      display:flex;\n",
              "      flex-wrap:wrap;\n",
              "      gap: 12px;\n",
              "    }\n",
              "\n",
              "    .colab-df-convert {\n",
              "      background-color: #E8F0FE;\n",
              "      border: none;\n",
              "      border-radius: 50%;\n",
              "      cursor: pointer;\n",
              "      display: none;\n",
              "      fill: #1967D2;\n",
              "      height: 32px;\n",
              "      padding: 0 0 0 0;\n",
              "      width: 32px;\n",
              "    }\n",
              "\n",
              "    .colab-df-convert:hover {\n",
              "      background-color: #E2EBFA;\n",
              "      box-shadow: 0px 1px 2px rgba(60, 64, 67, 0.3), 0px 1px 3px 1px rgba(60, 64, 67, 0.15);\n",
              "      fill: #174EA6;\n",
              "    }\n",
              "\n",
              "    [theme=dark] .colab-df-convert {\n",
              "      background-color: #3B4455;\n",
              "      fill: #D2E3FC;\n",
              "    }\n",
              "\n",
              "    [theme=dark] .colab-df-convert:hover {\n",
              "      background-color: #434B5C;\n",
              "      box-shadow: 0px 1px 3px 1px rgba(0, 0, 0, 0.15);\n",
              "      filter: drop-shadow(0px 1px 2px rgba(0, 0, 0, 0.3));\n",
              "      fill: #FFFFFF;\n",
              "    }\n",
              "  </style>\n",
              "\n",
              "      <script>\n",
              "        const buttonEl =\n",
              "          document.querySelector('#df-57fe490e-82b5-4642-beae-1559be34c672 button.colab-df-convert');\n",
              "        buttonEl.style.display =\n",
              "          google.colab.kernel.accessAllowed ? 'block' : 'none';\n",
              "\n",
              "        async function convertToInteractive(key) {\n",
              "          const element = document.querySelector('#df-57fe490e-82b5-4642-beae-1559be34c672');\n",
              "          const dataTable =\n",
              "            await google.colab.kernel.invokeFunction('convertToInteractive',\n",
              "                                                     [key], {});\n",
              "          if (!dataTable) return;\n",
              "\n",
              "          const docLinkHtml = 'Like what you see? Visit the ' +\n",
              "            '<a target=\"_blank\" href=https://colab.research.google.com/notebooks/data_table.ipynb>data table notebook</a>'\n",
              "            + ' to learn more about interactive tables.';\n",
              "          element.innerHTML = '';\n",
              "          dataTable['output_type'] = 'display_data';\n",
              "          await google.colab.output.renderOutput(dataTable, element);\n",
              "          const docLink = document.createElement('div');\n",
              "          docLink.innerHTML = docLinkHtml;\n",
              "          element.appendChild(docLink);\n",
              "        }\n",
              "      </script>\n",
              "    </div>\n",
              "  </div>\n",
              "  "
            ]
          },
          "metadata": {},
          "execution_count": 32
        }
      ]
    },
    {
      "cell_type": "code",
      "source": [
        "pref = sorted(fp['Food'].unique())\n",
        "howmany = len(sorted(fp['Food'].unique()))\n",
        "print(pref,'\\n', howmany)"
      ],
      "metadata": {
        "colab": {
          "base_uri": "https://localhost:8080/"
        },
        "id": "niIgPbfQBFFt",
        "outputId": "714421b7-09f2-4bbe-d762-84f10074943d"
      },
      "execution_count": null,
      "outputs": [
        {
          "output_type": "stream",
          "name": "stdout",
          "text": [
            "['Traditional food', 'Western Food'] \n",
            " 2\n"
          ]
        }
      ]
    },
    {
      "cell_type": "markdown",
      "source": [
        "## 5b) Выберите самую частую национальность. Используйте критерий согласия хи-квадрат чтобы ответить на вопрос: \"Одинаково ли эта национальность любит все типы еды?\". Вес - 1 балл"
      ],
      "metadata": {
        "id": "y4zFEdPdWyOV"
      }
    },
    {
      "cell_type": "code",
      "source": [
        "# убираю из выборки рандомно одного индуса с помощью drop, чтобы их было четное количество, \n",
        "# и expected число любителей вестерн кухни не было сто двадцать плюс пол-индуса:)\n",
        "df = fp.drop(index = 286)\n",
        "df"
      ],
      "metadata": {
        "colab": {
          "base_uri": "https://localhost:8080/",
          "height": 419
        },
        "id": "jRw1bo1hJT8t",
        "outputId": "14e56ab1-a55e-4b10-ca26-69ea908ed4a7"
      },
      "execution_count": null,
      "outputs": [
        {
          "output_type": "execute_result",
          "data": {
            "text/plain": [
              "                        Timestamp Participant_ID  Gender Nationality  Age  \\\n",
              "0     2019/05/07 2:59:13 PM GMT+8         FPS001    Male      Indian   24   \n",
              "1     2019/05/07 2:59:45 PM GMT+8         FPS002  Female      Indian   22   \n",
              "2     2019/05/07 3:00:05 PM GMT+8         FPS003    Male      Indian   31   \n",
              "3     2019/05/07 3:00:11 PM GMT+8         FPS004  Female      Indian   25   \n",
              "4     2019/05/07 3:02:50 PM GMT+8         FPS005    Male      Indian   27   \n",
              "..                            ...            ...     ...         ...  ...   \n",
              "282   2019/05/10 9:13:05 AM GMT+8         FPS283    Male      Indian   27   \n",
              "283   2019/05/10 9:24:00 AM GMT+8         FPS284    Male      Indian   27   \n",
              "284   2019/05/10 9:32:54 AM GMT+8         FPS285    Male      Indian   24   \n",
              "285  2019/05/10 12:09:17 PM GMT+8         FPS286    Male      Indian   25   \n",
              "287  2019/05/10 12:55:42 PM GMT+8         FPS288    Male      Indian   27   \n",
              "\n",
              "                 Food              Juice Dessert  \n",
              "0    Traditional food        Fresh Juice   Maybe  \n",
              "1        Western Food  Carbonated drinks     Yes  \n",
              "2        Western Food        Fresh Juice   Maybe  \n",
              "3    Traditional food        Fresh Juice   Maybe  \n",
              "4    Traditional food        Fresh Juice   Maybe  \n",
              "..                ...                ...     ...  \n",
              "282  Traditional food        Fresh Juice      No  \n",
              "283      Western Food        Fresh Juice     Yes  \n",
              "284  Traditional food        Fresh Juice     Yes  \n",
              "285  Traditional food        Fresh Juice     Yes  \n",
              "287  Traditional food        Fresh Juice      No  \n",
              "\n",
              "[287 rows x 8 columns]"
            ],
            "text/html": [
              "\n",
              "  <div id=\"df-607935f3-6819-42c4-bda4-e0d964749eaa\">\n",
              "    <div class=\"colab-df-container\">\n",
              "      <div>\n",
              "<style scoped>\n",
              "    .dataframe tbody tr th:only-of-type {\n",
              "        vertical-align: middle;\n",
              "    }\n",
              "\n",
              "    .dataframe tbody tr th {\n",
              "        vertical-align: top;\n",
              "    }\n",
              "\n",
              "    .dataframe thead th {\n",
              "        text-align: right;\n",
              "    }\n",
              "</style>\n",
              "<table border=\"1\" class=\"dataframe\">\n",
              "  <thead>\n",
              "    <tr style=\"text-align: right;\">\n",
              "      <th></th>\n",
              "      <th>Timestamp</th>\n",
              "      <th>Participant_ID</th>\n",
              "      <th>Gender</th>\n",
              "      <th>Nationality</th>\n",
              "      <th>Age</th>\n",
              "      <th>Food</th>\n",
              "      <th>Juice</th>\n",
              "      <th>Dessert</th>\n",
              "    </tr>\n",
              "  </thead>\n",
              "  <tbody>\n",
              "    <tr>\n",
              "      <th>0</th>\n",
              "      <td>2019/05/07 2:59:13 PM GMT+8</td>\n",
              "      <td>FPS001</td>\n",
              "      <td>Male</td>\n",
              "      <td>Indian</td>\n",
              "      <td>24</td>\n",
              "      <td>Traditional food</td>\n",
              "      <td>Fresh Juice</td>\n",
              "      <td>Maybe</td>\n",
              "    </tr>\n",
              "    <tr>\n",
              "      <th>1</th>\n",
              "      <td>2019/05/07 2:59:45 PM GMT+8</td>\n",
              "      <td>FPS002</td>\n",
              "      <td>Female</td>\n",
              "      <td>Indian</td>\n",
              "      <td>22</td>\n",
              "      <td>Western Food</td>\n",
              "      <td>Carbonated drinks</td>\n",
              "      <td>Yes</td>\n",
              "    </tr>\n",
              "    <tr>\n",
              "      <th>2</th>\n",
              "      <td>2019/05/07 3:00:05 PM GMT+8</td>\n",
              "      <td>FPS003</td>\n",
              "      <td>Male</td>\n",
              "      <td>Indian</td>\n",
              "      <td>31</td>\n",
              "      <td>Western Food</td>\n",
              "      <td>Fresh Juice</td>\n",
              "      <td>Maybe</td>\n",
              "    </tr>\n",
              "    <tr>\n",
              "      <th>3</th>\n",
              "      <td>2019/05/07 3:00:11 PM GMT+8</td>\n",
              "      <td>FPS004</td>\n",
              "      <td>Female</td>\n",
              "      <td>Indian</td>\n",
              "      <td>25</td>\n",
              "      <td>Traditional food</td>\n",
              "      <td>Fresh Juice</td>\n",
              "      <td>Maybe</td>\n",
              "    </tr>\n",
              "    <tr>\n",
              "      <th>4</th>\n",
              "      <td>2019/05/07 3:02:50 PM GMT+8</td>\n",
              "      <td>FPS005</td>\n",
              "      <td>Male</td>\n",
              "      <td>Indian</td>\n",
              "      <td>27</td>\n",
              "      <td>Traditional food</td>\n",
              "      <td>Fresh Juice</td>\n",
              "      <td>Maybe</td>\n",
              "    </tr>\n",
              "    <tr>\n",
              "      <th>...</th>\n",
              "      <td>...</td>\n",
              "      <td>...</td>\n",
              "      <td>...</td>\n",
              "      <td>...</td>\n",
              "      <td>...</td>\n",
              "      <td>...</td>\n",
              "      <td>...</td>\n",
              "      <td>...</td>\n",
              "    </tr>\n",
              "    <tr>\n",
              "      <th>282</th>\n",
              "      <td>2019/05/10 9:13:05 AM GMT+8</td>\n",
              "      <td>FPS283</td>\n",
              "      <td>Male</td>\n",
              "      <td>Indian</td>\n",
              "      <td>27</td>\n",
              "      <td>Traditional food</td>\n",
              "      <td>Fresh Juice</td>\n",
              "      <td>No</td>\n",
              "    </tr>\n",
              "    <tr>\n",
              "      <th>283</th>\n",
              "      <td>2019/05/10 9:24:00 AM GMT+8</td>\n",
              "      <td>FPS284</td>\n",
              "      <td>Male</td>\n",
              "      <td>Indian</td>\n",
              "      <td>27</td>\n",
              "      <td>Western Food</td>\n",
              "      <td>Fresh Juice</td>\n",
              "      <td>Yes</td>\n",
              "    </tr>\n",
              "    <tr>\n",
              "      <th>284</th>\n",
              "      <td>2019/05/10 9:32:54 AM GMT+8</td>\n",
              "      <td>FPS285</td>\n",
              "      <td>Male</td>\n",
              "      <td>Indian</td>\n",
              "      <td>24</td>\n",
              "      <td>Traditional food</td>\n",
              "      <td>Fresh Juice</td>\n",
              "      <td>Yes</td>\n",
              "    </tr>\n",
              "    <tr>\n",
              "      <th>285</th>\n",
              "      <td>2019/05/10 12:09:17 PM GMT+8</td>\n",
              "      <td>FPS286</td>\n",
              "      <td>Male</td>\n",
              "      <td>Indian</td>\n",
              "      <td>25</td>\n",
              "      <td>Traditional food</td>\n",
              "      <td>Fresh Juice</td>\n",
              "      <td>Yes</td>\n",
              "    </tr>\n",
              "    <tr>\n",
              "      <th>287</th>\n",
              "      <td>2019/05/10 12:55:42 PM GMT+8</td>\n",
              "      <td>FPS288</td>\n",
              "      <td>Male</td>\n",
              "      <td>Indian</td>\n",
              "      <td>27</td>\n",
              "      <td>Traditional food</td>\n",
              "      <td>Fresh Juice</td>\n",
              "      <td>No</td>\n",
              "    </tr>\n",
              "  </tbody>\n",
              "</table>\n",
              "<p>287 rows × 8 columns</p>\n",
              "</div>\n",
              "      <button class=\"colab-df-convert\" onclick=\"convertToInteractive('df-607935f3-6819-42c4-bda4-e0d964749eaa')\"\n",
              "              title=\"Convert this dataframe to an interactive table.\"\n",
              "              style=\"display:none;\">\n",
              "        \n",
              "  <svg xmlns=\"http://www.w3.org/2000/svg\" height=\"24px\"viewBox=\"0 0 24 24\"\n",
              "       width=\"24px\">\n",
              "    <path d=\"M0 0h24v24H0V0z\" fill=\"none\"/>\n",
              "    <path d=\"M18.56 5.44l.94 2.06.94-2.06 2.06-.94-2.06-.94-.94-2.06-.94 2.06-2.06.94zm-11 1L8.5 8.5l.94-2.06 2.06-.94-2.06-.94L8.5 2.5l-.94 2.06-2.06.94zm10 10l.94 2.06.94-2.06 2.06-.94-2.06-.94-.94-2.06-.94 2.06-2.06.94z\"/><path d=\"M17.41 7.96l-1.37-1.37c-.4-.4-.92-.59-1.43-.59-.52 0-1.04.2-1.43.59L10.3 9.45l-7.72 7.72c-.78.78-.78 2.05 0 2.83L4 21.41c.39.39.9.59 1.41.59.51 0 1.02-.2 1.41-.59l7.78-7.78 2.81-2.81c.8-.78.8-2.07 0-2.86zM5.41 20L4 18.59l7.72-7.72 1.47 1.35L5.41 20z\"/>\n",
              "  </svg>\n",
              "      </button>\n",
              "      \n",
              "  <style>\n",
              "    .colab-df-container {\n",
              "      display:flex;\n",
              "      flex-wrap:wrap;\n",
              "      gap: 12px;\n",
              "    }\n",
              "\n",
              "    .colab-df-convert {\n",
              "      background-color: #E8F0FE;\n",
              "      border: none;\n",
              "      border-radius: 50%;\n",
              "      cursor: pointer;\n",
              "      display: none;\n",
              "      fill: #1967D2;\n",
              "      height: 32px;\n",
              "      padding: 0 0 0 0;\n",
              "      width: 32px;\n",
              "    }\n",
              "\n",
              "    .colab-df-convert:hover {\n",
              "      background-color: #E2EBFA;\n",
              "      box-shadow: 0px 1px 2px rgba(60, 64, 67, 0.3), 0px 1px 3px 1px rgba(60, 64, 67, 0.15);\n",
              "      fill: #174EA6;\n",
              "    }\n",
              "\n",
              "    [theme=dark] .colab-df-convert {\n",
              "      background-color: #3B4455;\n",
              "      fill: #D2E3FC;\n",
              "    }\n",
              "\n",
              "    [theme=dark] .colab-df-convert:hover {\n",
              "      background-color: #434B5C;\n",
              "      box-shadow: 0px 1px 3px 1px rgba(0, 0, 0, 0.15);\n",
              "      filter: drop-shadow(0px 1px 2px rgba(0, 0, 0, 0.3));\n",
              "      fill: #FFFFFF;\n",
              "    }\n",
              "  </style>\n",
              "\n",
              "      <script>\n",
              "        const buttonEl =\n",
              "          document.querySelector('#df-607935f3-6819-42c4-bda4-e0d964749eaa button.colab-df-convert');\n",
              "        buttonEl.style.display =\n",
              "          google.colab.kernel.accessAllowed ? 'block' : 'none';\n",
              "\n",
              "        async function convertToInteractive(key) {\n",
              "          const element = document.querySelector('#df-607935f3-6819-42c4-bda4-e0d964749eaa');\n",
              "          const dataTable =\n",
              "            await google.colab.kernel.invokeFunction('convertToInteractive',\n",
              "                                                     [key], {});\n",
              "          if (!dataTable) return;\n",
              "\n",
              "          const docLinkHtml = 'Like what you see? Visit the ' +\n",
              "            '<a target=\"_blank\" href=https://colab.research.google.com/notebooks/data_table.ipynb>data table notebook</a>'\n",
              "            + ' to learn more about interactive tables.';\n",
              "          element.innerHTML = '';\n",
              "          dataTable['output_type'] = 'display_data';\n",
              "          await google.colab.output.renderOutput(dataTable, element);\n",
              "          const docLink = document.createElement('div');\n",
              "          docLink.innerHTML = docLinkHtml;\n",
              "          element.appendChild(docLink);\n",
              "        }\n",
              "      </script>\n",
              "    </div>\n",
              "  </div>\n",
              "  "
            ]
          },
          "metadata": {},
          "execution_count": 34
        }
      ]
    },
    {
      "cell_type": "code",
      "source": [
        "# Выбираем уровень значимости и кол-во степеней свободы для 2 категорий\n",
        "alpha = 0.05\n",
        "ddof = 2 - 1 \n",
        "chi2theor = 3.84\n",
        "# сранивать будем с хи-квадрат = 3.84"
      ],
      "metadata": {
        "id": "DD4A4zPkLiqO"
      },
      "execution_count": null,
      "outputs": []
    },
    {
      "cell_type": "code",
      "source": [
        "indians_love_western = len(df[df['Nationality'] == 'Indian'])/2 \n",
        "indians_love_traditional = len(df[df['Nationality'] == 'Indian'])/2\n",
        "# ожидаем: одинаковое кол-во индусов из выборки любит и западную, и традиционную еду\n",
        "exp = [indians_love_western, indians_love_traditional]\n",
        "exp"
      ],
      "metadata": {
        "colab": {
          "base_uri": "https://localhost:8080/"
        },
        "id": "X__SNmzkJlbE",
        "outputId": "98f83e7c-3968-45df-8b08-6305d4fbadc5"
      },
      "execution_count": null,
      "outputs": [
        {
          "output_type": "execute_result",
          "data": {
            "text/plain": [
              "[120.0, 120.0]"
            ]
          },
          "metadata": {},
          "execution_count": 36
        }
      ]
    },
    {
      "cell_type": "code",
      "source": [
        "indians_really_love_western = df[(df['Nationality'] == 'Indian') & (df['Food'] == 'Western Food')].shape[0]\n",
        "indians_really_love_traditional = df[(df['Nationality'] == 'Indian') & (df['Food'] == 'Traditional food')].shape[0]\n",
        "obs = [indians_really_love_western, indians_really_love_traditional]\n",
        "obs"
      ],
      "metadata": {
        "colab": {
          "base_uri": "https://localhost:8080/"
        },
        "id": "2O0r7iApHGUV",
        "outputId": "1a4ebf46-8456-41cf-c8c2-9d80444ead2c"
      },
      "execution_count": null,
      "outputs": [
        {
          "output_type": "execute_result",
          "data": {
            "text/plain": [
              "[37, 203]"
            ]
          },
          "metadata": {},
          "execution_count": 37
        }
      ]
    },
    {
      "cell_type": "code",
      "source": [
        "chi2 = ((obs[0] - exp[0])**2 / exp[0]) +  ((obs[1] - exp[1])**2 / exp[1])\n",
        "chi2"
      ],
      "metadata": {
        "colab": {
          "base_uri": "https://localhost:8080/"
        },
        "id": "k2VEsYCWK123",
        "outputId": "04b7bc4d-30cf-43c8-c0fe-362f813cd5f4"
      },
      "execution_count": null,
      "outputs": [
        {
          "output_type": "execute_result",
          "data": {
            "text/plain": [
              "114.81666666666666"
            ]
          },
          "metadata": {},
          "execution_count": 38
        }
      ]
    },
    {
      "cell_type": "code",
      "source": [
        "chi2 > chi2theor #значение хи-квадрат попадает в критическую область, значит мы можем отвергнуть H0\n",
        "# о том, что наблюдаемые частоты не отличаются от распределения частот теоретических. Индусы не любят все типы еды\n",
        "# одинаково, а больше предпочитают традиционную"
      ],
      "metadata": {
        "colab": {
          "base_uri": "https://localhost:8080/"
        },
        "id": "OkM3rnAhMfYK",
        "outputId": "8cca183f-470e-4a7b-c38c-e8e502155907"
      },
      "execution_count": null,
      "outputs": [
        {
          "output_type": "execute_result",
          "data": {
            "text/plain": [
              "True"
            ]
          },
          "metadata": {},
          "execution_count": 39
        }
      ]
    },
    {
      "cell_type": "code",
      "source": [
        "# проверо4ка значимости через встроенную функцию\n",
        "ex_ob = pd.DataFrame()\n",
        "ex_ob['Кухня'] = ['Western Food', 'Traditional Food']\n",
        "ex_ob['exp'] = [exp[0], exp[1]]\n",
        "ex_ob['obs'] = [obs[0], obs[1]]\n",
        "ex_ob"
      ],
      "metadata": {
        "colab": {
          "base_uri": "https://localhost:8080/",
          "height": 111
        },
        "id": "BwaArXutOSJ1",
        "outputId": "a6167d79-a21c-468c-dfcd-d499d5fe0707"
      },
      "execution_count": null,
      "outputs": [
        {
          "output_type": "execute_result",
          "data": {
            "text/plain": [
              "              Кухня    exp  obs\n",
              "0      Western Food  120.0   37\n",
              "1  Traditional Food  120.0  203"
            ],
            "text/html": [
              "\n",
              "  <div id=\"df-d34b4f41-deb2-4595-8af6-2c9766ec2924\">\n",
              "    <div class=\"colab-df-container\">\n",
              "      <div>\n",
              "<style scoped>\n",
              "    .dataframe tbody tr th:only-of-type {\n",
              "        vertical-align: middle;\n",
              "    }\n",
              "\n",
              "    .dataframe tbody tr th {\n",
              "        vertical-align: top;\n",
              "    }\n",
              "\n",
              "    .dataframe thead th {\n",
              "        text-align: right;\n",
              "    }\n",
              "</style>\n",
              "<table border=\"1\" class=\"dataframe\">\n",
              "  <thead>\n",
              "    <tr style=\"text-align: right;\">\n",
              "      <th></th>\n",
              "      <th>Кухня</th>\n",
              "      <th>exp</th>\n",
              "      <th>obs</th>\n",
              "    </tr>\n",
              "  </thead>\n",
              "  <tbody>\n",
              "    <tr>\n",
              "      <th>0</th>\n",
              "      <td>Western Food</td>\n",
              "      <td>120.0</td>\n",
              "      <td>37</td>\n",
              "    </tr>\n",
              "    <tr>\n",
              "      <th>1</th>\n",
              "      <td>Traditional Food</td>\n",
              "      <td>120.0</td>\n",
              "      <td>203</td>\n",
              "    </tr>\n",
              "  </tbody>\n",
              "</table>\n",
              "</div>\n",
              "      <button class=\"colab-df-convert\" onclick=\"convertToInteractive('df-d34b4f41-deb2-4595-8af6-2c9766ec2924')\"\n",
              "              title=\"Convert this dataframe to an interactive table.\"\n",
              "              style=\"display:none;\">\n",
              "        \n",
              "  <svg xmlns=\"http://www.w3.org/2000/svg\" height=\"24px\"viewBox=\"0 0 24 24\"\n",
              "       width=\"24px\">\n",
              "    <path d=\"M0 0h24v24H0V0z\" fill=\"none\"/>\n",
              "    <path d=\"M18.56 5.44l.94 2.06.94-2.06 2.06-.94-2.06-.94-.94-2.06-.94 2.06-2.06.94zm-11 1L8.5 8.5l.94-2.06 2.06-.94-2.06-.94L8.5 2.5l-.94 2.06-2.06.94zm10 10l.94 2.06.94-2.06 2.06-.94-2.06-.94-.94-2.06-.94 2.06-2.06.94z\"/><path d=\"M17.41 7.96l-1.37-1.37c-.4-.4-.92-.59-1.43-.59-.52 0-1.04.2-1.43.59L10.3 9.45l-7.72 7.72c-.78.78-.78 2.05 0 2.83L4 21.41c.39.39.9.59 1.41.59.51 0 1.02-.2 1.41-.59l7.78-7.78 2.81-2.81c.8-.78.8-2.07 0-2.86zM5.41 20L4 18.59l7.72-7.72 1.47 1.35L5.41 20z\"/>\n",
              "  </svg>\n",
              "      </button>\n",
              "      \n",
              "  <style>\n",
              "    .colab-df-container {\n",
              "      display:flex;\n",
              "      flex-wrap:wrap;\n",
              "      gap: 12px;\n",
              "    }\n",
              "\n",
              "    .colab-df-convert {\n",
              "      background-color: #E8F0FE;\n",
              "      border: none;\n",
              "      border-radius: 50%;\n",
              "      cursor: pointer;\n",
              "      display: none;\n",
              "      fill: #1967D2;\n",
              "      height: 32px;\n",
              "      padding: 0 0 0 0;\n",
              "      width: 32px;\n",
              "    }\n",
              "\n",
              "    .colab-df-convert:hover {\n",
              "      background-color: #E2EBFA;\n",
              "      box-shadow: 0px 1px 2px rgba(60, 64, 67, 0.3), 0px 1px 3px 1px rgba(60, 64, 67, 0.15);\n",
              "      fill: #174EA6;\n",
              "    }\n",
              "\n",
              "    [theme=dark] .colab-df-convert {\n",
              "      background-color: #3B4455;\n",
              "      fill: #D2E3FC;\n",
              "    }\n",
              "\n",
              "    [theme=dark] .colab-df-convert:hover {\n",
              "      background-color: #434B5C;\n",
              "      box-shadow: 0px 1px 3px 1px rgba(0, 0, 0, 0.15);\n",
              "      filter: drop-shadow(0px 1px 2px rgba(0, 0, 0, 0.3));\n",
              "      fill: #FFFFFF;\n",
              "    }\n",
              "  </style>\n",
              "\n",
              "      <script>\n",
              "        const buttonEl =\n",
              "          document.querySelector('#df-d34b4f41-deb2-4595-8af6-2c9766ec2924 button.colab-df-convert');\n",
              "        buttonEl.style.display =\n",
              "          google.colab.kernel.accessAllowed ? 'block' : 'none';\n",
              "\n",
              "        async function convertToInteractive(key) {\n",
              "          const element = document.querySelector('#df-d34b4f41-deb2-4595-8af6-2c9766ec2924');\n",
              "          const dataTable =\n",
              "            await google.colab.kernel.invokeFunction('convertToInteractive',\n",
              "                                                     [key], {});\n",
              "          if (!dataTable) return;\n",
              "\n",
              "          const docLinkHtml = 'Like what you see? Visit the ' +\n",
              "            '<a target=\"_blank\" href=https://colab.research.google.com/notebooks/data_table.ipynb>data table notebook</a>'\n",
              "            + ' to learn more about interactive tables.';\n",
              "          element.innerHTML = '';\n",
              "          dataTable['output_type'] = 'display_data';\n",
              "          await google.colab.output.renderOutput(dataTable, element);\n",
              "          const docLink = document.createElement('div');\n",
              "          docLink.innerHTML = docLinkHtml;\n",
              "          element.appendChild(docLink);\n",
              "        }\n",
              "      </script>\n",
              "    </div>\n",
              "  </div>\n",
              "  "
            ]
          },
          "metadata": {},
          "execution_count": 40
        }
      ]
    },
    {
      "cell_type": "code",
      "source": [
        "chisqres = stats.chisquare(ex_ob[\"obs\"], ex_ob[\"exp\"]) "
      ],
      "metadata": {
        "id": "unt4ZHIpPCyk"
      },
      "execution_count": null,
      "outputs": []
    },
    {
      "cell_type": "code",
      "source": [
        "chisqres.pvalue > 0.05 # значение p, равное или меньшее 0.05, указывает на то, что нулевую гипотезу можно отвергнуть"
      ],
      "metadata": {
        "colab": {
          "base_uri": "https://localhost:8080/"
        },
        "id": "dLAgsyIOPNA8",
        "outputId": "e471c6d2-6ac3-46f5-da92-b395eb0d9817"
      },
      "execution_count": null,
      "outputs": [
        {
          "output_type": "execute_result",
          "data": {
            "text/plain": [
              "False"
            ]
          },
          "metadata": {},
          "execution_count": 42
        }
      ]
    },
    {
      "cell_type": "markdown",
      "source": [
        "# Задание 6: Критерий независимости хи-квадрат"
      ],
      "metadata": {
        "id": "xUO0do8mTOzU"
      }
    },
    {
      "cell_type": "markdown",
      "source": [
        "## 6a) Используйте критерий независимости хи-квадрат, чтобы для той же национальности ответить на вопрос: \"Одинаковые ли вкусовые предпочтения по еде у мужчин и женщин?\". Вес - 1.5 балла"
      ],
      "metadata": {
        "id": "1vm1gpGyDX1_"
      }
    },
    {
      "cell_type": "code",
      "source": [
        "df[df['Nationality'] == 'Indian']['Gender'].unique()"
      ],
      "metadata": {
        "colab": {
          "base_uri": "https://localhost:8080/"
        },
        "id": "10hke2a3aUPO",
        "outputId": "d8ad60ce-75e4-4440-e470-0e72d28c6e49"
      },
      "execution_count": null,
      "outputs": [
        {
          "output_type": "execute_result",
          "data": {
            "text/plain": [
              "array(['Male', 'Female', nan], dtype=object)"
            ]
          },
          "metadata": {},
          "execution_count": 43
        }
      ]
    },
    {
      "cell_type": "code",
      "source": [
        "df.dropna(inplace= True)\n",
        "df"
      ],
      "metadata": {
        "colab": {
          "base_uri": "https://localhost:8080/",
          "height": 419
        },
        "id": "THtdxpgNae6s",
        "outputId": "7fd2cd22-70a4-45d1-e27e-4b1581fcbc28"
      },
      "execution_count": null,
      "outputs": [
        {
          "output_type": "execute_result",
          "data": {
            "text/plain": [
              "                        Timestamp Participant_ID  Gender Nationality  Age  \\\n",
              "0     2019/05/07 2:59:13 PM GMT+8         FPS001    Male      Indian   24   \n",
              "1     2019/05/07 2:59:45 PM GMT+8         FPS002  Female      Indian   22   \n",
              "2     2019/05/07 3:00:05 PM GMT+8         FPS003    Male      Indian   31   \n",
              "3     2019/05/07 3:00:11 PM GMT+8         FPS004  Female      Indian   25   \n",
              "4     2019/05/07 3:02:50 PM GMT+8         FPS005    Male      Indian   27   \n",
              "..                            ...            ...     ...         ...  ...   \n",
              "282   2019/05/10 9:13:05 AM GMT+8         FPS283    Male      Indian   27   \n",
              "283   2019/05/10 9:24:00 AM GMT+8         FPS284    Male      Indian   27   \n",
              "284   2019/05/10 9:32:54 AM GMT+8         FPS285    Male      Indian   24   \n",
              "285  2019/05/10 12:09:17 PM GMT+8         FPS286    Male      Indian   25   \n",
              "287  2019/05/10 12:55:42 PM GMT+8         FPS288    Male      Indian   27   \n",
              "\n",
              "                 Food              Juice Dessert  \n",
              "0    Traditional food        Fresh Juice   Maybe  \n",
              "1        Western Food  Carbonated drinks     Yes  \n",
              "2        Western Food        Fresh Juice   Maybe  \n",
              "3    Traditional food        Fresh Juice   Maybe  \n",
              "4    Traditional food        Fresh Juice   Maybe  \n",
              "..                ...                ...     ...  \n",
              "282  Traditional food        Fresh Juice      No  \n",
              "283      Western Food        Fresh Juice     Yes  \n",
              "284  Traditional food        Fresh Juice     Yes  \n",
              "285  Traditional food        Fresh Juice     Yes  \n",
              "287  Traditional food        Fresh Juice      No  \n",
              "\n",
              "[283 rows x 8 columns]"
            ],
            "text/html": [
              "\n",
              "  <div id=\"df-2ebeca5d-ff0c-4631-b43e-42678168da01\">\n",
              "    <div class=\"colab-df-container\">\n",
              "      <div>\n",
              "<style scoped>\n",
              "    .dataframe tbody tr th:only-of-type {\n",
              "        vertical-align: middle;\n",
              "    }\n",
              "\n",
              "    .dataframe tbody tr th {\n",
              "        vertical-align: top;\n",
              "    }\n",
              "\n",
              "    .dataframe thead th {\n",
              "        text-align: right;\n",
              "    }\n",
              "</style>\n",
              "<table border=\"1\" class=\"dataframe\">\n",
              "  <thead>\n",
              "    <tr style=\"text-align: right;\">\n",
              "      <th></th>\n",
              "      <th>Timestamp</th>\n",
              "      <th>Participant_ID</th>\n",
              "      <th>Gender</th>\n",
              "      <th>Nationality</th>\n",
              "      <th>Age</th>\n",
              "      <th>Food</th>\n",
              "      <th>Juice</th>\n",
              "      <th>Dessert</th>\n",
              "    </tr>\n",
              "  </thead>\n",
              "  <tbody>\n",
              "    <tr>\n",
              "      <th>0</th>\n",
              "      <td>2019/05/07 2:59:13 PM GMT+8</td>\n",
              "      <td>FPS001</td>\n",
              "      <td>Male</td>\n",
              "      <td>Indian</td>\n",
              "      <td>24</td>\n",
              "      <td>Traditional food</td>\n",
              "      <td>Fresh Juice</td>\n",
              "      <td>Maybe</td>\n",
              "    </tr>\n",
              "    <tr>\n",
              "      <th>1</th>\n",
              "      <td>2019/05/07 2:59:45 PM GMT+8</td>\n",
              "      <td>FPS002</td>\n",
              "      <td>Female</td>\n",
              "      <td>Indian</td>\n",
              "      <td>22</td>\n",
              "      <td>Western Food</td>\n",
              "      <td>Carbonated drinks</td>\n",
              "      <td>Yes</td>\n",
              "    </tr>\n",
              "    <tr>\n",
              "      <th>2</th>\n",
              "      <td>2019/05/07 3:00:05 PM GMT+8</td>\n",
              "      <td>FPS003</td>\n",
              "      <td>Male</td>\n",
              "      <td>Indian</td>\n",
              "      <td>31</td>\n",
              "      <td>Western Food</td>\n",
              "      <td>Fresh Juice</td>\n",
              "      <td>Maybe</td>\n",
              "    </tr>\n",
              "    <tr>\n",
              "      <th>3</th>\n",
              "      <td>2019/05/07 3:00:11 PM GMT+8</td>\n",
              "      <td>FPS004</td>\n",
              "      <td>Female</td>\n",
              "      <td>Indian</td>\n",
              "      <td>25</td>\n",
              "      <td>Traditional food</td>\n",
              "      <td>Fresh Juice</td>\n",
              "      <td>Maybe</td>\n",
              "    </tr>\n",
              "    <tr>\n",
              "      <th>4</th>\n",
              "      <td>2019/05/07 3:02:50 PM GMT+8</td>\n",
              "      <td>FPS005</td>\n",
              "      <td>Male</td>\n",
              "      <td>Indian</td>\n",
              "      <td>27</td>\n",
              "      <td>Traditional food</td>\n",
              "      <td>Fresh Juice</td>\n",
              "      <td>Maybe</td>\n",
              "    </tr>\n",
              "    <tr>\n",
              "      <th>...</th>\n",
              "      <td>...</td>\n",
              "      <td>...</td>\n",
              "      <td>...</td>\n",
              "      <td>...</td>\n",
              "      <td>...</td>\n",
              "      <td>...</td>\n",
              "      <td>...</td>\n",
              "      <td>...</td>\n",
              "    </tr>\n",
              "    <tr>\n",
              "      <th>282</th>\n",
              "      <td>2019/05/10 9:13:05 AM GMT+8</td>\n",
              "      <td>FPS283</td>\n",
              "      <td>Male</td>\n",
              "      <td>Indian</td>\n",
              "      <td>27</td>\n",
              "      <td>Traditional food</td>\n",
              "      <td>Fresh Juice</td>\n",
              "      <td>No</td>\n",
              "    </tr>\n",
              "    <tr>\n",
              "      <th>283</th>\n",
              "      <td>2019/05/10 9:24:00 AM GMT+8</td>\n",
              "      <td>FPS284</td>\n",
              "      <td>Male</td>\n",
              "      <td>Indian</td>\n",
              "      <td>27</td>\n",
              "      <td>Western Food</td>\n",
              "      <td>Fresh Juice</td>\n",
              "      <td>Yes</td>\n",
              "    </tr>\n",
              "    <tr>\n",
              "      <th>284</th>\n",
              "      <td>2019/05/10 9:32:54 AM GMT+8</td>\n",
              "      <td>FPS285</td>\n",
              "      <td>Male</td>\n",
              "      <td>Indian</td>\n",
              "      <td>24</td>\n",
              "      <td>Traditional food</td>\n",
              "      <td>Fresh Juice</td>\n",
              "      <td>Yes</td>\n",
              "    </tr>\n",
              "    <tr>\n",
              "      <th>285</th>\n",
              "      <td>2019/05/10 12:09:17 PM GMT+8</td>\n",
              "      <td>FPS286</td>\n",
              "      <td>Male</td>\n",
              "      <td>Indian</td>\n",
              "      <td>25</td>\n",
              "      <td>Traditional food</td>\n",
              "      <td>Fresh Juice</td>\n",
              "      <td>Yes</td>\n",
              "    </tr>\n",
              "    <tr>\n",
              "      <th>287</th>\n",
              "      <td>2019/05/10 12:55:42 PM GMT+8</td>\n",
              "      <td>FPS288</td>\n",
              "      <td>Male</td>\n",
              "      <td>Indian</td>\n",
              "      <td>27</td>\n",
              "      <td>Traditional food</td>\n",
              "      <td>Fresh Juice</td>\n",
              "      <td>No</td>\n",
              "    </tr>\n",
              "  </tbody>\n",
              "</table>\n",
              "<p>283 rows × 8 columns</p>\n",
              "</div>\n",
              "      <button class=\"colab-df-convert\" onclick=\"convertToInteractive('df-2ebeca5d-ff0c-4631-b43e-42678168da01')\"\n",
              "              title=\"Convert this dataframe to an interactive table.\"\n",
              "              style=\"display:none;\">\n",
              "        \n",
              "  <svg xmlns=\"http://www.w3.org/2000/svg\" height=\"24px\"viewBox=\"0 0 24 24\"\n",
              "       width=\"24px\">\n",
              "    <path d=\"M0 0h24v24H0V0z\" fill=\"none\"/>\n",
              "    <path d=\"M18.56 5.44l.94 2.06.94-2.06 2.06-.94-2.06-.94-.94-2.06-.94 2.06-2.06.94zm-11 1L8.5 8.5l.94-2.06 2.06-.94-2.06-.94L8.5 2.5l-.94 2.06-2.06.94zm10 10l.94 2.06.94-2.06 2.06-.94-2.06-.94-.94-2.06-.94 2.06-2.06.94z\"/><path d=\"M17.41 7.96l-1.37-1.37c-.4-.4-.92-.59-1.43-.59-.52 0-1.04.2-1.43.59L10.3 9.45l-7.72 7.72c-.78.78-.78 2.05 0 2.83L4 21.41c.39.39.9.59 1.41.59.51 0 1.02-.2 1.41-.59l7.78-7.78 2.81-2.81c.8-.78.8-2.07 0-2.86zM5.41 20L4 18.59l7.72-7.72 1.47 1.35L5.41 20z\"/>\n",
              "  </svg>\n",
              "      </button>\n",
              "      \n",
              "  <style>\n",
              "    .colab-df-container {\n",
              "      display:flex;\n",
              "      flex-wrap:wrap;\n",
              "      gap: 12px;\n",
              "    }\n",
              "\n",
              "    .colab-df-convert {\n",
              "      background-color: #E8F0FE;\n",
              "      border: none;\n",
              "      border-radius: 50%;\n",
              "      cursor: pointer;\n",
              "      display: none;\n",
              "      fill: #1967D2;\n",
              "      height: 32px;\n",
              "      padding: 0 0 0 0;\n",
              "      width: 32px;\n",
              "    }\n",
              "\n",
              "    .colab-df-convert:hover {\n",
              "      background-color: #E2EBFA;\n",
              "      box-shadow: 0px 1px 2px rgba(60, 64, 67, 0.3), 0px 1px 3px 1px rgba(60, 64, 67, 0.15);\n",
              "      fill: #174EA6;\n",
              "    }\n",
              "\n",
              "    [theme=dark] .colab-df-convert {\n",
              "      background-color: #3B4455;\n",
              "      fill: #D2E3FC;\n",
              "    }\n",
              "\n",
              "    [theme=dark] .colab-df-convert:hover {\n",
              "      background-color: #434B5C;\n",
              "      box-shadow: 0px 1px 3px 1px rgba(0, 0, 0, 0.15);\n",
              "      filter: drop-shadow(0px 1px 2px rgba(0, 0, 0, 0.3));\n",
              "      fill: #FFFFFF;\n",
              "    }\n",
              "  </style>\n",
              "\n",
              "      <script>\n",
              "        const buttonEl =\n",
              "          document.querySelector('#df-2ebeca5d-ff0c-4631-b43e-42678168da01 button.colab-df-convert');\n",
              "        buttonEl.style.display =\n",
              "          google.colab.kernel.accessAllowed ? 'block' : 'none';\n",
              "\n",
              "        async function convertToInteractive(key) {\n",
              "          const element = document.querySelector('#df-2ebeca5d-ff0c-4631-b43e-42678168da01');\n",
              "          const dataTable =\n",
              "            await google.colab.kernel.invokeFunction('convertToInteractive',\n",
              "                                                     [key], {});\n",
              "          if (!dataTable) return;\n",
              "\n",
              "          const docLinkHtml = 'Like what you see? Visit the ' +\n",
              "            '<a target=\"_blank\" href=https://colab.research.google.com/notebooks/data_table.ipynb>data table notebook</a>'\n",
              "            + ' to learn more about interactive tables.';\n",
              "          element.innerHTML = '';\n",
              "          dataTable['output_type'] = 'display_data';\n",
              "          await google.colab.output.renderOutput(dataTable, element);\n",
              "          const docLink = document.createElement('div');\n",
              "          docLink.innerHTML = docLinkHtml;\n",
              "          element.appendChild(docLink);\n",
              "        }\n",
              "      </script>\n",
              "    </div>\n",
              "  </div>\n",
              "  "
            ]
          },
          "metadata": {},
          "execution_count": 44
        }
      ]
    },
    {
      "cell_type": "code",
      "source": [
        "df[df['Nationality'] == 'Indian'].shape[0] #после удаление пропусков по Gender индусов снова стало нечетное число\n",
        "# дропнем рандомно снова какую-нибудь строку из выборки индусов"
      ],
      "metadata": {
        "colab": {
          "base_uri": "https://localhost:8080/"
        },
        "id": "qLVfatkPavpX",
        "outputId": "f06ede37-85ee-4819-b407-21d1a56d35f1"
      },
      "execution_count": null,
      "outputs": [
        {
          "output_type": "execute_result",
          "data": {
            "text/plain": [
              "237"
            ]
          },
          "metadata": {},
          "execution_count": 45
        }
      ]
    },
    {
      "cell_type": "code",
      "source": [
        "df = df.drop(index = 287)"
      ],
      "metadata": {
        "id": "2EOxU3l3baMq"
      },
      "execution_count": null,
      "outputs": []
    },
    {
      "cell_type": "code",
      "source": [
        "# H0: В генеральной совокупности пропорции распределения предпочитаемого \n",
        "# типа еды для женщин не отличаются от пропорций распределения предпочитаемого типа еды для мужчин\n",
        "# H1: В генеральной совокупности пропорции распределения предпочитаемого \n",
        "# типа еды для женщин отличаются от пропорций распределения предпочитаемого типа еды для мужчин\n",
        "\n",
        "fem_love_western = df[(df['Nationality'] == 'Indian') & (df['Gender'] == 'Female') & (df['Food'] == 'Western Food')].shape[0]\n",
        "fem_love_tr = df[(df['Nationality'] == 'Indian') & (df['Gender'] == 'Female') & (df['Food'] == 'Traditional food')].shape[0]\n",
        "male_love_western = len(df[(df['Nationality'] == 'Indian') & (df['Gender'] == 'Male') & (df['Food'] == 'Western Food')])\n",
        "male_love_tr = len(df[(df['Nationality'] == 'Indian') & (df['Gender'] == 'Male') & (df['Food'] == 'Traditional food')])\n",
        "\n",
        "alpha = 0.05\n",
        "ddof = (2-1)*(2-1)\n",
        "chi2theor = 3.84\n",
        "fe_ma = pd.DataFrame()\n",
        "fe_ma['Кухня'] = ['Western Food', 'Traditional Food', 'Сумма по полу']\n",
        "fe_ma['Female'] = [fem_love_western, fem_love_tr,\n",
        "                   fem_love_western+fem_love_tr]\n",
        "fe_ma['Male'] = [male_love_western, \n",
        "                 male_love_tr,\n",
        "                 male_love_western+male_love_tr]\n",
        "fe_ma['Summa'] = [fem_love_western+male_love_western, male_love_tr + fem_love_tr, \n",
        "                fem_love_western+male_love_western + male_love_tr + fem_love_tr]\n",
        "fe_ma"
      ],
      "metadata": {
        "id": "pYXe3D0rYUb-",
        "colab": {
          "base_uri": "https://localhost:8080/",
          "height": 142
        },
        "outputId": "f0b6bec8-b3ec-43e2-a31c-334ed7bb2aa5"
      },
      "execution_count": null,
      "outputs": [
        {
          "output_type": "execute_result",
          "data": {
            "text/plain": [
              "              Кухня  Female  Male  Summa\n",
              "0      Western Food      17    20     37\n",
              "1  Traditional Food     132    67    199\n",
              "2     Сумма по полу     149    87    236"
            ],
            "text/html": [
              "\n",
              "  <div id=\"df-a94ee9d1-4284-4f3f-80f2-cb3f62d91858\">\n",
              "    <div class=\"colab-df-container\">\n",
              "      <div>\n",
              "<style scoped>\n",
              "    .dataframe tbody tr th:only-of-type {\n",
              "        vertical-align: middle;\n",
              "    }\n",
              "\n",
              "    .dataframe tbody tr th {\n",
              "        vertical-align: top;\n",
              "    }\n",
              "\n",
              "    .dataframe thead th {\n",
              "        text-align: right;\n",
              "    }\n",
              "</style>\n",
              "<table border=\"1\" class=\"dataframe\">\n",
              "  <thead>\n",
              "    <tr style=\"text-align: right;\">\n",
              "      <th></th>\n",
              "      <th>Кухня</th>\n",
              "      <th>Female</th>\n",
              "      <th>Male</th>\n",
              "      <th>Summa</th>\n",
              "    </tr>\n",
              "  </thead>\n",
              "  <tbody>\n",
              "    <tr>\n",
              "      <th>0</th>\n",
              "      <td>Western Food</td>\n",
              "      <td>17</td>\n",
              "      <td>20</td>\n",
              "      <td>37</td>\n",
              "    </tr>\n",
              "    <tr>\n",
              "      <th>1</th>\n",
              "      <td>Traditional Food</td>\n",
              "      <td>132</td>\n",
              "      <td>67</td>\n",
              "      <td>199</td>\n",
              "    </tr>\n",
              "    <tr>\n",
              "      <th>2</th>\n",
              "      <td>Сумма по полу</td>\n",
              "      <td>149</td>\n",
              "      <td>87</td>\n",
              "      <td>236</td>\n",
              "    </tr>\n",
              "  </tbody>\n",
              "</table>\n",
              "</div>\n",
              "      <button class=\"colab-df-convert\" onclick=\"convertToInteractive('df-a94ee9d1-4284-4f3f-80f2-cb3f62d91858')\"\n",
              "              title=\"Convert this dataframe to an interactive table.\"\n",
              "              style=\"display:none;\">\n",
              "        \n",
              "  <svg xmlns=\"http://www.w3.org/2000/svg\" height=\"24px\"viewBox=\"0 0 24 24\"\n",
              "       width=\"24px\">\n",
              "    <path d=\"M0 0h24v24H0V0z\" fill=\"none\"/>\n",
              "    <path d=\"M18.56 5.44l.94 2.06.94-2.06 2.06-.94-2.06-.94-.94-2.06-.94 2.06-2.06.94zm-11 1L8.5 8.5l.94-2.06 2.06-.94-2.06-.94L8.5 2.5l-.94 2.06-2.06.94zm10 10l.94 2.06.94-2.06 2.06-.94-2.06-.94-.94-2.06-.94 2.06-2.06.94z\"/><path d=\"M17.41 7.96l-1.37-1.37c-.4-.4-.92-.59-1.43-.59-.52 0-1.04.2-1.43.59L10.3 9.45l-7.72 7.72c-.78.78-.78 2.05 0 2.83L4 21.41c.39.39.9.59 1.41.59.51 0 1.02-.2 1.41-.59l7.78-7.78 2.81-2.81c.8-.78.8-2.07 0-2.86zM5.41 20L4 18.59l7.72-7.72 1.47 1.35L5.41 20z\"/>\n",
              "  </svg>\n",
              "      </button>\n",
              "      \n",
              "  <style>\n",
              "    .colab-df-container {\n",
              "      display:flex;\n",
              "      flex-wrap:wrap;\n",
              "      gap: 12px;\n",
              "    }\n",
              "\n",
              "    .colab-df-convert {\n",
              "      background-color: #E8F0FE;\n",
              "      border: none;\n",
              "      border-radius: 50%;\n",
              "      cursor: pointer;\n",
              "      display: none;\n",
              "      fill: #1967D2;\n",
              "      height: 32px;\n",
              "      padding: 0 0 0 0;\n",
              "      width: 32px;\n",
              "    }\n",
              "\n",
              "    .colab-df-convert:hover {\n",
              "      background-color: #E2EBFA;\n",
              "      box-shadow: 0px 1px 2px rgba(60, 64, 67, 0.3), 0px 1px 3px 1px rgba(60, 64, 67, 0.15);\n",
              "      fill: #174EA6;\n",
              "    }\n",
              "\n",
              "    [theme=dark] .colab-df-convert {\n",
              "      background-color: #3B4455;\n",
              "      fill: #D2E3FC;\n",
              "    }\n",
              "\n",
              "    [theme=dark] .colab-df-convert:hover {\n",
              "      background-color: #434B5C;\n",
              "      box-shadow: 0px 1px 3px 1px rgba(0, 0, 0, 0.15);\n",
              "      filter: drop-shadow(0px 1px 2px rgba(0, 0, 0, 0.3));\n",
              "      fill: #FFFFFF;\n",
              "    }\n",
              "  </style>\n",
              "\n",
              "      <script>\n",
              "        const buttonEl =\n",
              "          document.querySelector('#df-a94ee9d1-4284-4f3f-80f2-cb3f62d91858 button.colab-df-convert');\n",
              "        buttonEl.style.display =\n",
              "          google.colab.kernel.accessAllowed ? 'block' : 'none';\n",
              "\n",
              "        async function convertToInteractive(key) {\n",
              "          const element = document.querySelector('#df-a94ee9d1-4284-4f3f-80f2-cb3f62d91858');\n",
              "          const dataTable =\n",
              "            await google.colab.kernel.invokeFunction('convertToInteractive',\n",
              "                                                     [key], {});\n",
              "          if (!dataTable) return;\n",
              "\n",
              "          const docLinkHtml = 'Like what you see? Visit the ' +\n",
              "            '<a target=\"_blank\" href=https://colab.research.google.com/notebooks/data_table.ipynb>data table notebook</a>'\n",
              "            + ' to learn more about interactive tables.';\n",
              "          element.innerHTML = '';\n",
              "          dataTable['output_type'] = 'display_data';\n",
              "          await google.colab.output.renderOutput(dataTable, element);\n",
              "          const docLink = document.createElement('div');\n",
              "          docLink.innerHTML = docLinkHtml;\n",
              "          element.appendChild(docLink);\n",
              "        }\n",
              "      </script>\n",
              "    </div>\n",
              "  </div>\n",
              "  "
            ]
          },
          "metadata": {},
          "execution_count": 47
        }
      ]
    },
    {
      "cell_type": "code",
      "source": [
        "pref_western = fe_ma['Summa'][0]/fe_ma['Summa'][2]\n",
        "pref_trad = fe_ma['Summa'][1]/fe_ma['Summa'][2]\n",
        "print(pref_western, pref_trad)"
      ],
      "metadata": {
        "colab": {
          "base_uri": "https://localhost:8080/"
        },
        "id": "6xQb2oDJb-rr",
        "outputId": "b523ff8a-42dd-4723-c3e8-cc26e7ab9fa1"
      },
      "execution_count": null,
      "outputs": [
        {
          "output_type": "stream",
          "name": "stdout",
          "text": [
            "0.15677966101694915 0.8432203389830508\n"
          ]
        }
      ]
    },
    {
      "cell_type": "code",
      "source": [
        "# составляем таблицу с теоретическими (ожидаемыми) частотами\n",
        "theor_fem_love_western = fe_ma['Female'][2]*pref_western\n",
        "theor_male_love_western = fe_ma['Male'][2]*pref_western\n",
        "theor_fem_love_trad = fe_ma['Female'][2]*pref_trad\n",
        "theor_male_love_trad = fe_ma['Male'][2]*pref_trad\n",
        "\n",
        "th_fe_ma = pd.DataFrame()\n",
        "th_fe_ma['Кухня'] = ['Western Food', 'Traditional Food', 'Сумма по полу']\n",
        "th_fe_ma['Female'] = [theor_fem_love_western, theor_fem_love_trad,\n",
        "                   theor_fem_love_western+theor_fem_love_trad]\n",
        "th_fe_ma['Male'] = [theor_male_love_western, \n",
        "                 theor_male_love_trad,\n",
        "                 theor_male_love_western+theor_male_love_trad]\n",
        "th_fe_ma['Summa'] = [theor_fem_love_western+theor_male_love_western, theor_male_love_trad + theor_fem_love_trad, \n",
        "                theor_fem_love_western+theor_male_love_western + theor_male_love_trad + theor_fem_love_trad]\n",
        "th_fe_ma"
      ],
      "metadata": {
        "colab": {
          "base_uri": "https://localhost:8080/",
          "height": 142
        },
        "id": "6nz-cNTbICXw",
        "outputId": "11a8c84e-c2d3-40ec-c32f-2efb1b856156"
      },
      "execution_count": null,
      "outputs": [
        {
          "output_type": "execute_result",
          "data": {
            "text/plain": [
              "              Кухня      Female       Male  Summa\n",
              "0      Western Food   23.360169  13.639831   37.0\n",
              "1  Traditional Food  125.639831  73.360169  199.0\n",
              "2     Сумма по полу  149.000000  87.000000  236.0"
            ],
            "text/html": [
              "\n",
              "  <div id=\"df-eb83d9fa-1dc7-45dc-ad85-6df96cf05519\">\n",
              "    <div class=\"colab-df-container\">\n",
              "      <div>\n",
              "<style scoped>\n",
              "    .dataframe tbody tr th:only-of-type {\n",
              "        vertical-align: middle;\n",
              "    }\n",
              "\n",
              "    .dataframe tbody tr th {\n",
              "        vertical-align: top;\n",
              "    }\n",
              "\n",
              "    .dataframe thead th {\n",
              "        text-align: right;\n",
              "    }\n",
              "</style>\n",
              "<table border=\"1\" class=\"dataframe\">\n",
              "  <thead>\n",
              "    <tr style=\"text-align: right;\">\n",
              "      <th></th>\n",
              "      <th>Кухня</th>\n",
              "      <th>Female</th>\n",
              "      <th>Male</th>\n",
              "      <th>Summa</th>\n",
              "    </tr>\n",
              "  </thead>\n",
              "  <tbody>\n",
              "    <tr>\n",
              "      <th>0</th>\n",
              "      <td>Western Food</td>\n",
              "      <td>23.360169</td>\n",
              "      <td>13.639831</td>\n",
              "      <td>37.0</td>\n",
              "    </tr>\n",
              "    <tr>\n",
              "      <th>1</th>\n",
              "      <td>Traditional Food</td>\n",
              "      <td>125.639831</td>\n",
              "      <td>73.360169</td>\n",
              "      <td>199.0</td>\n",
              "    </tr>\n",
              "    <tr>\n",
              "      <th>2</th>\n",
              "      <td>Сумма по полу</td>\n",
              "      <td>149.000000</td>\n",
              "      <td>87.000000</td>\n",
              "      <td>236.0</td>\n",
              "    </tr>\n",
              "  </tbody>\n",
              "</table>\n",
              "</div>\n",
              "      <button class=\"colab-df-convert\" onclick=\"convertToInteractive('df-eb83d9fa-1dc7-45dc-ad85-6df96cf05519')\"\n",
              "              title=\"Convert this dataframe to an interactive table.\"\n",
              "              style=\"display:none;\">\n",
              "        \n",
              "  <svg xmlns=\"http://www.w3.org/2000/svg\" height=\"24px\"viewBox=\"0 0 24 24\"\n",
              "       width=\"24px\">\n",
              "    <path d=\"M0 0h24v24H0V0z\" fill=\"none\"/>\n",
              "    <path d=\"M18.56 5.44l.94 2.06.94-2.06 2.06-.94-2.06-.94-.94-2.06-.94 2.06-2.06.94zm-11 1L8.5 8.5l.94-2.06 2.06-.94-2.06-.94L8.5 2.5l-.94 2.06-2.06.94zm10 10l.94 2.06.94-2.06 2.06-.94-2.06-.94-.94-2.06-.94 2.06-2.06.94z\"/><path d=\"M17.41 7.96l-1.37-1.37c-.4-.4-.92-.59-1.43-.59-.52 0-1.04.2-1.43.59L10.3 9.45l-7.72 7.72c-.78.78-.78 2.05 0 2.83L4 21.41c.39.39.9.59 1.41.59.51 0 1.02-.2 1.41-.59l7.78-7.78 2.81-2.81c.8-.78.8-2.07 0-2.86zM5.41 20L4 18.59l7.72-7.72 1.47 1.35L5.41 20z\"/>\n",
              "  </svg>\n",
              "      </button>\n",
              "      \n",
              "  <style>\n",
              "    .colab-df-container {\n",
              "      display:flex;\n",
              "      flex-wrap:wrap;\n",
              "      gap: 12px;\n",
              "    }\n",
              "\n",
              "    .colab-df-convert {\n",
              "      background-color: #E8F0FE;\n",
              "      border: none;\n",
              "      border-radius: 50%;\n",
              "      cursor: pointer;\n",
              "      display: none;\n",
              "      fill: #1967D2;\n",
              "      height: 32px;\n",
              "      padding: 0 0 0 0;\n",
              "      width: 32px;\n",
              "    }\n",
              "\n",
              "    .colab-df-convert:hover {\n",
              "      background-color: #E2EBFA;\n",
              "      box-shadow: 0px 1px 2px rgba(60, 64, 67, 0.3), 0px 1px 3px 1px rgba(60, 64, 67, 0.15);\n",
              "      fill: #174EA6;\n",
              "    }\n",
              "\n",
              "    [theme=dark] .colab-df-convert {\n",
              "      background-color: #3B4455;\n",
              "      fill: #D2E3FC;\n",
              "    }\n",
              "\n",
              "    [theme=dark] .colab-df-convert:hover {\n",
              "      background-color: #434B5C;\n",
              "      box-shadow: 0px 1px 3px 1px rgba(0, 0, 0, 0.15);\n",
              "      filter: drop-shadow(0px 1px 2px rgba(0, 0, 0, 0.3));\n",
              "      fill: #FFFFFF;\n",
              "    }\n",
              "  </style>\n",
              "\n",
              "      <script>\n",
              "        const buttonEl =\n",
              "          document.querySelector('#df-eb83d9fa-1dc7-45dc-ad85-6df96cf05519 button.colab-df-convert');\n",
              "        buttonEl.style.display =\n",
              "          google.colab.kernel.accessAllowed ? 'block' : 'none';\n",
              "\n",
              "        async function convertToInteractive(key) {\n",
              "          const element = document.querySelector('#df-eb83d9fa-1dc7-45dc-ad85-6df96cf05519');\n",
              "          const dataTable =\n",
              "            await google.colab.kernel.invokeFunction('convertToInteractive',\n",
              "                                                     [key], {});\n",
              "          if (!dataTable) return;\n",
              "\n",
              "          const docLinkHtml = 'Like what you see? Visit the ' +\n",
              "            '<a target=\"_blank\" href=https://colab.research.google.com/notebooks/data_table.ipynb>data table notebook</a>'\n",
              "            + ' to learn more about interactive tables.';\n",
              "          element.innerHTML = '';\n",
              "          dataTable['output_type'] = 'display_data';\n",
              "          await google.colab.output.renderOutput(dataTable, element);\n",
              "          const docLink = document.createElement('div');\n",
              "          docLink.innerHTML = docLinkHtml;\n",
              "          element.appendChild(docLink);\n",
              "        }\n",
              "      </script>\n",
              "    </div>\n",
              "  </div>\n",
              "  "
            ]
          },
          "metadata": {},
          "execution_count": 49
        }
      ]
    },
    {
      "cell_type": "code",
      "source": [
        "chi2fe_male = ((fe_ma['Female'][0] - th_fe_ma['Female'][0])**2  / th_fe_ma['Female'][0]) + (\n",
        "    (fe_ma['Female'][1] - th_fe_ma['Female'][1])**2  / th_fe_ma['Female'][1]) + (\n",
        "        (fe_ma['Male'][0] - th_fe_ma['Male'][0])**2  / th_fe_ma['Male'][0]) + (\n",
        "            (fe_ma['Male'][1] - th_fe_ma['Male'][1])**2  / th_fe_ma['Male'][1])\n",
        "chi2fe_male"
      ],
      "metadata": {
        "colab": {
          "base_uri": "https://localhost:8080/"
        },
        "id": "8e5Lrc6FJ3V0",
        "outputId": "e2218070-0464-4458-a9d5-d29b8a255c3e"
      },
      "execution_count": null,
      "outputs": [
        {
          "output_type": "execute_result",
          "data": {
            "text/plain": [
              "5.570742265235328"
            ]
          },
          "metadata": {},
          "execution_count": 50
        }
      ]
    },
    {
      "cell_type": "code",
      "source": [
        "chi2fe_male > chi2theor #нулевая гипотеза не отвергается. В генеральной совокупности пропорции распределения предпочитаемого \n",
        "# типа еды для женщин не отличаются от пропорций распределения предпочитаемого типа еды для мужчин"
      ],
      "metadata": {
        "colab": {
          "base_uri": "https://localhost:8080/"
        },
        "id": "vnILfXnAL2dO",
        "outputId": "a025381a-f69d-4a57-bb01-82ea132bbb90"
      },
      "execution_count": null,
      "outputs": [
        {
          "output_type": "execute_result",
          "data": {
            "text/plain": [
              "True"
            ]
          },
          "metadata": {},
          "execution_count": 51
        }
      ]
    },
    {
      "cell_type": "markdown",
      "source": [
        "## 6b) Теперь поймите, есть ли различия в предпочтениях в дессертах у мужчин и женщин той же национальности. Также используйте хи-квадрат. Вес - 1.5 балла"
      ],
      "metadata": {
        "id": "JNJmYih5YXqf"
      }
    },
    {
      "cell_type": "code",
      "source": [
        "# H0: В генеральной совокупности пропорции распределения предпочитаемого \n",
        "# типа еды для женщин не отличаются от пропорций распределения предпочитаемого типа еды для мужчин\n",
        "# H1: В генеральной совокупности пропорции распределения предпочитаемого \n",
        "# типа еды для женщин отличаются от пропорций распределения предпочитаемого типа еды для мужчин\n",
        "\n",
        "fem_no = df[(df['Nationality'] == 'Indian') & (df['Gender'] == 'Female') & (df['Dessert'] == 'No')].shape[0]\n",
        "fem_yes = df[(df['Nationality'] == 'Indian') & (df['Gender'] == 'Female') & (df['Dessert'] == 'Yes')].shape[0]\n",
        "fem_maybe = df[(df['Nationality'] == 'Indian') & (df['Gender'] == 'Female') & (df['Dessert'] == 'Maybe')].shape[0]\n",
        "male_no = df[(df['Nationality'] == 'Indian') & (df['Gender'] == 'Male') & (df['Dessert'] == 'No')].shape[0]\n",
        "male_yes = df[(df['Nationality'] == 'Indian') & (df['Gender'] == 'Male') & (df['Dessert'] == 'Yes')].shape[0]\n",
        "male_maybe = df[(df['Nationality'] == 'Indian') & (df['Gender'] == 'Male') & (df['Dessert'] == 'Maybe')].shape[0]\n",
        "\n",
        "alpha = 0.05\n",
        "ddof = (3-1)*(2-1)\n",
        "\n",
        "desserts_obs = pd.DataFrame()\n",
        "desserts_obs['Preference dess'] = ['Yes', 'No', 'Maybe', 'Сумма']\n",
        "desserts_obs['Female'] = [fem_yes, fem_no, fem_maybe, fem_yes+fem_no+fem_maybe]\n",
        "desserts_obs['Male']= [male_yes, male_no, male_maybe, male_yes+male_no+male_maybe]\n",
        "desserts_obs['Sum'] = [fem_yes+male_yes, fem_no+male_no, fem_maybe+male_maybe, fem_yes+fem_no+fem_maybe+male_yes+male_no+male_maybe]\n",
        "desserts_obs"
      ],
      "metadata": {
        "id": "sYn-Cc3_YY1j",
        "colab": {
          "base_uri": "https://localhost:8080/",
          "height": 173
        },
        "outputId": "d4f7da89-a817-42df-c198-64c14bff80d7"
      },
      "execution_count": null,
      "outputs": [
        {
          "output_type": "execute_result",
          "data": {
            "text/plain": [
              "  Preference dess  Female  Male  Sum\n",
              "0             Yes      49    38   87\n",
              "1              No      34    12   46\n",
              "2           Maybe      66    37  103\n",
              "3           Сумма     149    87  236"
            ],
            "text/html": [
              "\n",
              "  <div id=\"df-e472d20a-7355-4bec-9865-8eacfdfda248\">\n",
              "    <div class=\"colab-df-container\">\n",
              "      <div>\n",
              "<style scoped>\n",
              "    .dataframe tbody tr th:only-of-type {\n",
              "        vertical-align: middle;\n",
              "    }\n",
              "\n",
              "    .dataframe tbody tr th {\n",
              "        vertical-align: top;\n",
              "    }\n",
              "\n",
              "    .dataframe thead th {\n",
              "        text-align: right;\n",
              "    }\n",
              "</style>\n",
              "<table border=\"1\" class=\"dataframe\">\n",
              "  <thead>\n",
              "    <tr style=\"text-align: right;\">\n",
              "      <th></th>\n",
              "      <th>Preference dess</th>\n",
              "      <th>Female</th>\n",
              "      <th>Male</th>\n",
              "      <th>Sum</th>\n",
              "    </tr>\n",
              "  </thead>\n",
              "  <tbody>\n",
              "    <tr>\n",
              "      <th>0</th>\n",
              "      <td>Yes</td>\n",
              "      <td>49</td>\n",
              "      <td>38</td>\n",
              "      <td>87</td>\n",
              "    </tr>\n",
              "    <tr>\n",
              "      <th>1</th>\n",
              "      <td>No</td>\n",
              "      <td>34</td>\n",
              "      <td>12</td>\n",
              "      <td>46</td>\n",
              "    </tr>\n",
              "    <tr>\n",
              "      <th>2</th>\n",
              "      <td>Maybe</td>\n",
              "      <td>66</td>\n",
              "      <td>37</td>\n",
              "      <td>103</td>\n",
              "    </tr>\n",
              "    <tr>\n",
              "      <th>3</th>\n",
              "      <td>Сумма</td>\n",
              "      <td>149</td>\n",
              "      <td>87</td>\n",
              "      <td>236</td>\n",
              "    </tr>\n",
              "  </tbody>\n",
              "</table>\n",
              "</div>\n",
              "      <button class=\"colab-df-convert\" onclick=\"convertToInteractive('df-e472d20a-7355-4bec-9865-8eacfdfda248')\"\n",
              "              title=\"Convert this dataframe to an interactive table.\"\n",
              "              style=\"display:none;\">\n",
              "        \n",
              "  <svg xmlns=\"http://www.w3.org/2000/svg\" height=\"24px\"viewBox=\"0 0 24 24\"\n",
              "       width=\"24px\">\n",
              "    <path d=\"M0 0h24v24H0V0z\" fill=\"none\"/>\n",
              "    <path d=\"M18.56 5.44l.94 2.06.94-2.06 2.06-.94-2.06-.94-.94-2.06-.94 2.06-2.06.94zm-11 1L8.5 8.5l.94-2.06 2.06-.94-2.06-.94L8.5 2.5l-.94 2.06-2.06.94zm10 10l.94 2.06.94-2.06 2.06-.94-2.06-.94-.94-2.06-.94 2.06-2.06.94z\"/><path d=\"M17.41 7.96l-1.37-1.37c-.4-.4-.92-.59-1.43-.59-.52 0-1.04.2-1.43.59L10.3 9.45l-7.72 7.72c-.78.78-.78 2.05 0 2.83L4 21.41c.39.39.9.59 1.41.59.51 0 1.02-.2 1.41-.59l7.78-7.78 2.81-2.81c.8-.78.8-2.07 0-2.86zM5.41 20L4 18.59l7.72-7.72 1.47 1.35L5.41 20z\"/>\n",
              "  </svg>\n",
              "      </button>\n",
              "      \n",
              "  <style>\n",
              "    .colab-df-container {\n",
              "      display:flex;\n",
              "      flex-wrap:wrap;\n",
              "      gap: 12px;\n",
              "    }\n",
              "\n",
              "    .colab-df-convert {\n",
              "      background-color: #E8F0FE;\n",
              "      border: none;\n",
              "      border-radius: 50%;\n",
              "      cursor: pointer;\n",
              "      display: none;\n",
              "      fill: #1967D2;\n",
              "      height: 32px;\n",
              "      padding: 0 0 0 0;\n",
              "      width: 32px;\n",
              "    }\n",
              "\n",
              "    .colab-df-convert:hover {\n",
              "      background-color: #E2EBFA;\n",
              "      box-shadow: 0px 1px 2px rgba(60, 64, 67, 0.3), 0px 1px 3px 1px rgba(60, 64, 67, 0.15);\n",
              "      fill: #174EA6;\n",
              "    }\n",
              "\n",
              "    [theme=dark] .colab-df-convert {\n",
              "      background-color: #3B4455;\n",
              "      fill: #D2E3FC;\n",
              "    }\n",
              "\n",
              "    [theme=dark] .colab-df-convert:hover {\n",
              "      background-color: #434B5C;\n",
              "      box-shadow: 0px 1px 3px 1px rgba(0, 0, 0, 0.15);\n",
              "      filter: drop-shadow(0px 1px 2px rgba(0, 0, 0, 0.3));\n",
              "      fill: #FFFFFF;\n",
              "    }\n",
              "  </style>\n",
              "\n",
              "      <script>\n",
              "        const buttonEl =\n",
              "          document.querySelector('#df-e472d20a-7355-4bec-9865-8eacfdfda248 button.colab-df-convert');\n",
              "        buttonEl.style.display =\n",
              "          google.colab.kernel.accessAllowed ? 'block' : 'none';\n",
              "\n",
              "        async function convertToInteractive(key) {\n",
              "          const element = document.querySelector('#df-e472d20a-7355-4bec-9865-8eacfdfda248');\n",
              "          const dataTable =\n",
              "            await google.colab.kernel.invokeFunction('convertToInteractive',\n",
              "                                                     [key], {});\n",
              "          if (!dataTable) return;\n",
              "\n",
              "          const docLinkHtml = 'Like what you see? Visit the ' +\n",
              "            '<a target=\"_blank\" href=https://colab.research.google.com/notebooks/data_table.ipynb>data table notebook</a>'\n",
              "            + ' to learn more about interactive tables.';\n",
              "          element.innerHTML = '';\n",
              "          dataTable['output_type'] = 'display_data';\n",
              "          await google.colab.output.renderOutput(dataTable, element);\n",
              "          const docLink = document.createElement('div');\n",
              "          docLink.innerHTML = docLinkHtml;\n",
              "          element.appendChild(docLink);\n",
              "        }\n",
              "      </script>\n",
              "    </div>\n",
              "  </div>\n",
              "  "
            ]
          },
          "metadata": {},
          "execution_count": 57
        }
      ]
    },
    {
      "cell_type": "code",
      "source": [
        "for_yes = desserts_obs['Sum'][0]/desserts_obs['Sum'][3]\n",
        "for_no = desserts_obs['Sum'][1]/desserts_obs['Sum'][3]\n",
        "for_maybe = desserts_obs['Sum'][2]/desserts_obs['Sum'][3]\n",
        "print(for_yes, for_no, for_maybe)"
      ],
      "metadata": {
        "colab": {
          "base_uri": "https://localhost:8080/"
        },
        "id": "4OSq_wGsOZDR",
        "outputId": "745ef6a7-23ce-4e55-b7b2-7c861e25c28c"
      },
      "execution_count": null,
      "outputs": [
        {
          "output_type": "stream",
          "name": "stdout",
          "text": [
            "0.3686440677966102 0.19491525423728814 0.4364406779661017\n"
          ]
        }
      ]
    },
    {
      "cell_type": "code",
      "source": [
        "# составляем таблицу с теоретическими (ожидаемыми) частотами\n",
        "theor_fem_yes = desserts_obs['Female'][3]*for_yes\n",
        "theor_fem_no = desserts_obs['Female'][3]*for_no\n",
        "theor_fem_maybe = desserts_obs['Female'][3]*for_maybe\n",
        "theor_male_yes = desserts_obs['Male'][3]*for_yes\n",
        "theor_male_no = desserts_obs['Male'][3]*for_no\n",
        "theor_male_maybe = desserts_obs['Male'][3]*for_maybe\n",
        "\n",
        "theor_dess_obs = pd.DataFrame()\n",
        "theor_dess_obs['Preference dess'] = ['Yes', 'No', 'Maybe', 'Summa']\n",
        "theor_dess_obs['Female'] = [theor_fem_yes, theor_fem_no, theor_fem_maybe, theor_fem_yes+theor_fem_no+theor_fem_maybe]\n",
        "theor_dess_obs['Male']= [theor_male_yes, theor_male_no, theor_male_maybe, theor_male_yes+theor_male_no+theor_male_maybe]\n",
        "theor_dess_obs['Sum'] = [theor_fem_yes+theor_male_yes, theor_fem_no+theor_male_no, theor_fem_maybe+theor_male_maybe, \n",
        "                       theor_fem_yes+theor_fem_no+theor_fem_maybe+theor_male_yes+theor_male_no+theor_male_maybe]\n",
        "theor_dess_obs"
      ],
      "metadata": {
        "colab": {
          "base_uri": "https://localhost:8080/",
          "height": 173
        },
        "id": "Y2BBc4EqUCQo",
        "outputId": "124ede29-d988-415b-97ed-30a046a6ec01"
      },
      "execution_count": null,
      "outputs": [
        {
          "output_type": "execute_result",
          "data": {
            "text/plain": [
              "  Preference dess      Female       Male    Sum\n",
              "0             Yes   54.927966  32.072034   87.0\n",
              "1              No   29.042373  16.957627   46.0\n",
              "2           Maybe   65.029661  37.970339  103.0\n",
              "3           Summa  149.000000  87.000000  236.0"
            ],
            "text/html": [
              "\n",
              "  <div id=\"df-56db1845-84eb-4641-a49f-dd3645817e38\">\n",
              "    <div class=\"colab-df-container\">\n",
              "      <div>\n",
              "<style scoped>\n",
              "    .dataframe tbody tr th:only-of-type {\n",
              "        vertical-align: middle;\n",
              "    }\n",
              "\n",
              "    .dataframe tbody tr th {\n",
              "        vertical-align: top;\n",
              "    }\n",
              "\n",
              "    .dataframe thead th {\n",
              "        text-align: right;\n",
              "    }\n",
              "</style>\n",
              "<table border=\"1\" class=\"dataframe\">\n",
              "  <thead>\n",
              "    <tr style=\"text-align: right;\">\n",
              "      <th></th>\n",
              "      <th>Preference dess</th>\n",
              "      <th>Female</th>\n",
              "      <th>Male</th>\n",
              "      <th>Sum</th>\n",
              "    </tr>\n",
              "  </thead>\n",
              "  <tbody>\n",
              "    <tr>\n",
              "      <th>0</th>\n",
              "      <td>Yes</td>\n",
              "      <td>54.927966</td>\n",
              "      <td>32.072034</td>\n",
              "      <td>87.0</td>\n",
              "    </tr>\n",
              "    <tr>\n",
              "      <th>1</th>\n",
              "      <td>No</td>\n",
              "      <td>29.042373</td>\n",
              "      <td>16.957627</td>\n",
              "      <td>46.0</td>\n",
              "    </tr>\n",
              "    <tr>\n",
              "      <th>2</th>\n",
              "      <td>Maybe</td>\n",
              "      <td>65.029661</td>\n",
              "      <td>37.970339</td>\n",
              "      <td>103.0</td>\n",
              "    </tr>\n",
              "    <tr>\n",
              "      <th>3</th>\n",
              "      <td>Summa</td>\n",
              "      <td>149.000000</td>\n",
              "      <td>87.000000</td>\n",
              "      <td>236.0</td>\n",
              "    </tr>\n",
              "  </tbody>\n",
              "</table>\n",
              "</div>\n",
              "      <button class=\"colab-df-convert\" onclick=\"convertToInteractive('df-56db1845-84eb-4641-a49f-dd3645817e38')\"\n",
              "              title=\"Convert this dataframe to an interactive table.\"\n",
              "              style=\"display:none;\">\n",
              "        \n",
              "  <svg xmlns=\"http://www.w3.org/2000/svg\" height=\"24px\"viewBox=\"0 0 24 24\"\n",
              "       width=\"24px\">\n",
              "    <path d=\"M0 0h24v24H0V0z\" fill=\"none\"/>\n",
              "    <path d=\"M18.56 5.44l.94 2.06.94-2.06 2.06-.94-2.06-.94-.94-2.06-.94 2.06-2.06.94zm-11 1L8.5 8.5l.94-2.06 2.06-.94-2.06-.94L8.5 2.5l-.94 2.06-2.06.94zm10 10l.94 2.06.94-2.06 2.06-.94-2.06-.94-.94-2.06-.94 2.06-2.06.94z\"/><path d=\"M17.41 7.96l-1.37-1.37c-.4-.4-.92-.59-1.43-.59-.52 0-1.04.2-1.43.59L10.3 9.45l-7.72 7.72c-.78.78-.78 2.05 0 2.83L4 21.41c.39.39.9.59 1.41.59.51 0 1.02-.2 1.41-.59l7.78-7.78 2.81-2.81c.8-.78.8-2.07 0-2.86zM5.41 20L4 18.59l7.72-7.72 1.47 1.35L5.41 20z\"/>\n",
              "  </svg>\n",
              "      </button>\n",
              "      \n",
              "  <style>\n",
              "    .colab-df-container {\n",
              "      display:flex;\n",
              "      flex-wrap:wrap;\n",
              "      gap: 12px;\n",
              "    }\n",
              "\n",
              "    .colab-df-convert {\n",
              "      background-color: #E8F0FE;\n",
              "      border: none;\n",
              "      border-radius: 50%;\n",
              "      cursor: pointer;\n",
              "      display: none;\n",
              "      fill: #1967D2;\n",
              "      height: 32px;\n",
              "      padding: 0 0 0 0;\n",
              "      width: 32px;\n",
              "    }\n",
              "\n",
              "    .colab-df-convert:hover {\n",
              "      background-color: #E2EBFA;\n",
              "      box-shadow: 0px 1px 2px rgba(60, 64, 67, 0.3), 0px 1px 3px 1px rgba(60, 64, 67, 0.15);\n",
              "      fill: #174EA6;\n",
              "    }\n",
              "\n",
              "    [theme=dark] .colab-df-convert {\n",
              "      background-color: #3B4455;\n",
              "      fill: #D2E3FC;\n",
              "    }\n",
              "\n",
              "    [theme=dark] .colab-df-convert:hover {\n",
              "      background-color: #434B5C;\n",
              "      box-shadow: 0px 1px 3px 1px rgba(0, 0, 0, 0.15);\n",
              "      filter: drop-shadow(0px 1px 2px rgba(0, 0, 0, 0.3));\n",
              "      fill: #FFFFFF;\n",
              "    }\n",
              "  </style>\n",
              "\n",
              "      <script>\n",
              "        const buttonEl =\n",
              "          document.querySelector('#df-56db1845-84eb-4641-a49f-dd3645817e38 button.colab-df-convert');\n",
              "        buttonEl.style.display =\n",
              "          google.colab.kernel.accessAllowed ? 'block' : 'none';\n",
              "\n",
              "        async function convertToInteractive(key) {\n",
              "          const element = document.querySelector('#df-56db1845-84eb-4641-a49f-dd3645817e38');\n",
              "          const dataTable =\n",
              "            await google.colab.kernel.invokeFunction('convertToInteractive',\n",
              "                                                     [key], {});\n",
              "          if (!dataTable) return;\n",
              "\n",
              "          const docLinkHtml = 'Like what you see? Visit the ' +\n",
              "            '<a target=\"_blank\" href=https://colab.research.google.com/notebooks/data_table.ipynb>data table notebook</a>'\n",
              "            + ' to learn more about interactive tables.';\n",
              "          element.innerHTML = '';\n",
              "          dataTable['output_type'] = 'display_data';\n",
              "          await google.colab.output.renderOutput(dataTable, element);\n",
              "          const docLink = document.createElement('div');\n",
              "          docLink.innerHTML = docLinkHtml;\n",
              "          element.appendChild(docLink);\n",
              "        }\n",
              "      </script>\n",
              "    </div>\n",
              "  </div>\n",
              "  "
            ]
          },
          "metadata": {},
          "execution_count": 63
        }
      ]
    },
    {
      "cell_type": "code",
      "source": [
        "chi2fe_dess = ((desserts_obs['Female'][0] - theor_dess_obs['Female'][0])**2  / theor_dess_obs['Female'][0]) + (\n",
        "    (desserts_obs['Female'][1] - theor_dess_obs['Female'][1])**2  / theor_dess_obs['Female'][1])+ (\n",
        "        (desserts_obs['Female'][2] - theor_dess_obs['Female'][2])**2  / theor_dess_obs['Female'][2]) + (\n",
        "            (desserts_obs['Male'][0] - theor_dess_obs['Male'][0])**2  / theor_dess_obs['Male'][0]) + (\n",
        "                (desserts_obs['Male'][1] - theor_dess_obs['Male'][1])**2  / theor_dess_obs['Male'][1] + (\n",
        "                    (desserts_obs['Male'][2] - theor_dess_obs['Male'][2])**2  / theor_dess_obs['Male'][2]))\n",
        "chi2fe_dess"
      ],
      "metadata": {
        "colab": {
          "base_uri": "https://localhost:8080/"
        },
        "id": "Za-xZw4uW2W1",
        "outputId": "10b70edf-c5cb-4313-a9a6-bce59a568470"
      },
      "execution_count": null,
      "outputs": [
        {
          "output_type": "execute_result",
          "data": {
            "text/plain": [
              "4.070384540067486"
            ]
          },
          "metadata": {},
          "execution_count": 66
        }
      ]
    },
    {
      "cell_type": "code",
      "source": [
        "chi2_critical = 5.99\n",
        "chi2fe_dess > chi2_critical # Нулевая гипотеза отвергается. В генеральной совокупности \n",
        "# зависимость между биологическим полом и предпочтением в десертах существует."
      ],
      "metadata": {
        "colab": {
          "base_uri": "https://localhost:8080/"
        },
        "id": "pCUA5ifuZE0p",
        "outputId": "e6c3c2e6-625d-4a8c-8012-60f1ade73cb8"
      },
      "execution_count": null,
      "outputs": [
        {
          "output_type": "execute_result",
          "data": {
            "text/plain": [
              "False"
            ]
          },
          "metadata": {},
          "execution_count": 68
        }
      ]
    }
  ]
}